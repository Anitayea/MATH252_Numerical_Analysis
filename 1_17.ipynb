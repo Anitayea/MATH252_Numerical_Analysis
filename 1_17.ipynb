{
  "nbformat": 4,
  "nbformat_minor": 0,
  "metadata": {
    "colab": {
      "name": "1_17.ipynb",
      "provenance": [],
      "collapsed_sections": []
    },
    "kernelspec": {
      "name": "python3",
      "display_name": "Python 3"
    },
    "language_info": {
      "name": "python"
    }
  },
  "cells": [
    {
      "cell_type": "markdown",
      "source": [
        "$Float32(0.1)\\cdot10 == 1$\n",
        "\n",
        "$\\text{First, represent $Float32(0.1)$ in IEEE form:}$\n",
        "\n",
        "\n",
        "\\begin{align*}\n",
        "        x &= Float32(0.1)\\\\\n",
        "        &= (-1)^0 \\cdot 2^{-4} \\cdot 1.\\overline{1001}\n",
        "    \\end{align*}\n",
        "\n",
        "$\\text{Then decide the exact value of $fl(x)$ by comparing which one is closer to $x$}$\n",
        "\n",
        " $x_+ = 1.1001 1001 1001 1001 1001 101$\n",
        "\n",
        " $x_- = 1.1001 1001 1001 1001 1001 100$\n",
        "\n",
        "$\\because x_+ - x > x - x_-$\n",
        "\n",
        "$\\therefore fl(x) = x_+$\n",
        "\n",
        "\n",
        "\n",
        "\n",
        "\n",
        "\n",
        "\\begin{align*}\n",
        "\\text{Decompose $10$ into $(2^3+2^1)$ for binary calculation:}\\\\\n",
        "        Float32(0.1) \\cdot 10 &= Float32(0.1)\\cdot(2^3+2^1)\\\\\n",
        "        &= (-1)^0\\cdot 2^{-4} \\cdot fl(x) \\cdot 2^3 + (-1)^0\\cdot 2^{-4} \\cdot fl(x) \\cdot 2^1\\\\\n",
        "        &= 2^{-4} \\cdot fl(x) \\cdot 2^3 + 2^{-4} \\cdot fl(x) \\cdot 2^1\\\\\n",
        "        \\text{Align exponents for later calculation:}\\\\\n",
        "        &= 2^{-3} \\cdot fl(x) \\cdot 2^2 + 2^{-3} \\cdot fl(x)\\\\\n",
        "        \\text{Plug in $fl(x):$}\\\\\n",
        "        &= 2^{-3} \\cdot (1.1001 1001 1001 1001 1001 101)  \\cdot 2^2 + 2^{-3} \\cdot (1.1001 1001 1001 1001 1001 101)\\\\\n",
        "        &= 2^{-3} \\cdot (110. 01 1001 1001 1001 1001 101) \\\\\n",
        "        & \\ + 2^{-3} \\cdot (1.1001 1001 1001 1001 1001 101) \\\\\n",
        "        &= 2^{-3} \\cdot \\ \\ ((110. 01 1001 1001 1001 1001 101)\\\\\n",
        "        &  \\quad + \\quad \\quad \\ \\ \\ (1.1001 1001 1001 1001 1001 101))\\\\\n",
        "        &= 2^{-3} \\cdot \\ (1000. 0000 0000 0000 0000 0000 001)\\\\\n",
        "        &= 1.000 0000 0000 0000 0000 0000 001\n",
        "    \\end{align*}\n",
        "\n",
        "\n",
        "\n",
        "\\begin{align*}\n",
        "\\text{To round the result to $Float32:$}\\\\\n",
        "        z &= 1.000 0000 0000 0000 0000 0000 001\\\\\n",
        "        z_+ &= 1.0000 0000 0000 0000 0000 001\\\\\n",
        "        z_- &= 1.0000 0000 0000 0000 0000 000\n",
        "    \\end{align*}\n",
        "\n",
        "\n",
        "$\\because z - z_- > z_+ - z$\n",
        "\n",
        "$\\therefore fl(x) = z_-$\n",
        "\n",
        "$\\therefore fl(x) = z_-  = 1.0000 0000 0000 0000 0000 000 == 1$\n",
        "\n",
        "$\\therefore true$\n"
      ],
      "metadata": {
        "id": "u0hTw7cVi8EN"
      }
    }
  ]
}