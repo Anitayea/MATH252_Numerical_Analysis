{
 "cells": [
  {
   "cell_type": "code",
   "execution_count": 50,
   "metadata": {},
   "outputs": [],
   "source": [
    "using Symbolics"
   ]
  },
  {
   "cell_type": "code",
   "execution_count": 51,
   "metadata": {},
   "outputs": [],
   "source": [
    "using LinearAlgebra\n",
    "using Plots"
   ]
  },
  {
   "cell_type": "code",
   "execution_count": 52,
   "metadata": {},
   "outputs": [
    {
     "data": {
      "text/plain": [
       "11-element Vector{Float64}:\n",
       " 0.6761488864859304\n",
       " 0.6345697680852508\n",
       " 0.6396283580587062\n",
       " 0.6132010027973919\n",
       " 0.5906142598705267\n",
       " 0.5718728461471725\n",
       " 0.5524549902830562\n",
       " 0.538938885654085\n",
       " 0.5373495476994958\n",
       " 0.514904589752926\n",
       " 0.49243437874655027"
      ]
     },
     "metadata": {},
     "output_type": "display_data"
    }
   ],
   "source": [
    "x = [0.0; 0.1; 0.2; 0.3; 0.4; 0.5; 0.6; 0.7; 0.8; 0.9; 1.0]\n",
    "y = [0.6761488864859304; 0.6345697680852508; 0.6396283580587062; 0.6132010027973919;\n",
    "0.5906142598705267; 0.5718728461471725; 0.5524549902830562; 0.538938885654085;\n",
    "0.5373495476994958; 0.514904589752926; 0.49243437874655027]"
   ]
  },
  {
   "cell_type": "code",
   "execution_count": 28,
   "metadata": {},
   "outputs": [
    {
     "data": {
      "text/latex": [
       "\\begin{equation}\n",
       "\\left[\n",
       "\\begin{array}{c}\n",
       "\\frac{ - 2 y + \\frac{2 a}{b + x}}{b + x} \\\\\n",
       " - \\frac{a}{\\left( b + x \\right)^{2}} \\left(  - 2 y + \\frac{2 a}{b + x} \\right) \\\\\n",
       "\\end{array}\n",
       "\\right]\n",
       "\\end{equation}\n"
      ],
      "text/plain": [
       "2-element Vector{Num}:\n",
       "          ((2a) / (b + x) - 2y) / (b + x)\n",
       " -(a / ((b + x)^2))*((2a) / (b + x) - 2y)"
      ]
     },
     "metadata": {},
     "output_type": "display_data"
    }
   ],
   "source": [
    "@variables a b x y\n",
    "f = (a/(x + b) - y)^2\n",
    "G = Symbolics.gradient(f, [a; b])"
   ]
  },
  {
   "cell_type": "code",
   "execution_count": 29,
   "metadata": {},
   "outputs": [
    {
     "data": {
      "text/latex": [
       "\\begin{equation}\n",
       "\\frac{2 a - 2 b y - 2 x y}{\\left( b + x \\right)^{2}}\n",
       "\\end{equation}\n"
      ],
      "text/plain": [
       "(2a - 2b*y - 2x*y) / ((b + x)^2)"
      ]
     },
     "metadata": {},
     "output_type": "display_data"
    }
   ],
   "source": [
    "simplify(G[1])"
   ]
  },
  {
   "cell_type": "code",
   "execution_count": 30,
   "metadata": {},
   "outputs": [
    {
     "data": {
      "text/latex": [
       "\\begin{equation}\n",
       "\\frac{a \\left(  - 2 a + 2 b y + 2 x y \\right)}{\\left( b + x \\right)^{3}}\n",
       "\\end{equation}\n"
      ],
      "text/plain": [
       "(a*(2b*y + 2x*y - 2a)) / ((b + x)^3)"
      ]
     },
     "metadata": {},
     "output_type": "display_data"
    }
   ],
   "source": [
    "simplify(G[2])"
   ]
  },
  {
   "cell_type": "code",
   "execution_count": 32,
   "metadata": {},
   "outputs": [
    {
     "data": {
      "text/latex": [
       "\\begin{equation}\n",
       "\\left[\n",
       "\\begin{array}{cc}\n",
       "\\frac{2}{\\left( b + x \\right)^{2}} & \\frac{2 y + \\frac{ - 2 a}{b + x}}{\\left( b + x \\right)^{2}} + \\frac{ - \\frac{2 a}{\\left( b + x \\right)^{2}}}{b + x} \\\\\n",
       "\\frac{2 y + \\frac{ - 2 a}{b + x}}{\\left( b + x \\right)^{2}} + \\frac{ - \\frac{2 a}{\\left( b + x \\right)^{2}}}{b + x} & \\frac{a \\frac{2 a}{\\left( b + x \\right)^{2}}}{\\left( b + x \\right)^{2}} - \\frac{a}{\\left( b + x \\right)^{4}} \\left( 2 b + 2 x \\right) \\left( 2 y + \\frac{ - 2 a}{b + x} \\right) \\\\\n",
       "\\end{array}\n",
       "\\right]\n",
       "\\end{equation}\n"
      ],
      "text/plain": [
       "2×2 Matrix{Num}:\n",
       "                                                          2 / ((b + x)^2)  …                     (2y + (-2a) / (b + x)) / ((b + x)^2) + (-((2a) / ((b + x)^2))) / (b + x)\n",
       " (2y + (-2a) / (b + x)) / ((b + x)^2) + (-((2a) / ((b + x)^2))) / (b + x)     (a*((2a) / ((b + x)^2))) / ((b + x)^2) - (a / ((b + x)^4))*(2b + 2x)*(2y + (-2a) / (b + x))"
      ]
     },
     "metadata": {},
     "output_type": "display_data"
    }
   ],
   "source": [
    "H = Symbolics.hessian(f, [a; b])"
   ]
  },
  {
   "cell_type": "code",
   "execution_count": 33,
   "metadata": {},
   "outputs": [
    {
     "data": {
      "text/latex": [
       "\\begin{equation}\n",
       "\\frac{2}{\\left( b + x \\right)^{2}}\n",
       "\\end{equation}\n"
      ],
      "text/plain": [
       "2 / ((b + x)^2)"
      ]
     },
     "metadata": {},
     "output_type": "display_data"
    }
   ],
   "source": [
    "simplify(H[1, 1])"
   ]
  },
  {
   "cell_type": "code",
   "execution_count": 34,
   "metadata": {},
   "outputs": [
    {
     "data": {
      "text/latex": [
       "\\begin{equation}\n",
       "\\frac{ - 4.0 a + 2.0 b y + 2.0 x y}{\\left( b + x \\right)^{3}}\n",
       "\\end{equation}\n"
      ],
      "text/plain": [
       "(2.0b*y + 2.0x*y - 4.0a) / ((b + x)^3)"
      ]
     },
     "metadata": {},
     "output_type": "display_data"
    }
   ],
   "source": [
    "simplify(H[1, 2])"
   ]
  },
  {
   "cell_type": "code",
   "execution_count": 35,
   "metadata": {},
   "outputs": [
    {
     "data": {
      "text/latex": [
       "\\begin{equation}\n",
       "\\frac{ - 4.0 a + 2.0 b y + 2.0 x y}{\\left( b + x \\right)^{3}}\n",
       "\\end{equation}\n"
      ],
      "text/plain": [
       "(2.0b*y + 2.0x*y - 4.0a) / ((b + x)^3)"
      ]
     },
     "metadata": {},
     "output_type": "display_data"
    }
   ],
   "source": [
    "simplify(H[2, 1])"
   ]
  },
  {
   "cell_type": "code",
   "execution_count": 36,
   "metadata": {},
   "outputs": [
    {
     "data": {
      "text/latex": [
       "\\begin{equation}\n",
       "\\frac{6.0 a^{2} - 4.0 a b y - 4.0 a x y}{\\left( b + x \\right)^{4}}\n",
       "\\end{equation}\n"
      ],
      "text/plain": [
       "(6.0(a^2) - 4.0a*b*y - 4.0a*x*y) / ((b + x)^4)"
      ]
     },
     "metadata": {},
     "output_type": "display_data"
    }
   ],
   "source": [
    "simplify(H[2, 2])"
   ]
  },
  {
   "cell_type": "code",
   "execution_count": 53,
   "metadata": {},
   "outputs": [
    {
     "data": {
      "text/plain": [
       "2-element Vector{Float64}:\n",
       " 1.948265048323992\n",
       " 2.898105977748503"
      ]
     },
     "metadata": {},
     "output_type": "display_data"
    }
   ],
   "source": [
    "ab = [1,1]\n",
    "iteration  =  0\n",
    "J = zeros(2,2)\n",
    "F = zeros(2)\n",
    "while iteration<=100\n",
    "    G_1, G_2, H_11, H_12, H_21, H_22 = 0,0,0,0,0,0\n",
    "    for i in 1:length(x)\n",
    "        G_1 += (2*ab[1] - 2*ab[2] * y[i] - 2*x[i]*y[i]) / (ab[2]+x[i])^2\n",
    "        G_2 += ab[1] * (-2*ab[1] + 2*ab[2]*y[i] + 2*x[i]*y[i]) / (ab[2]+x[i])^3\n",
    "        H_11 += 2 / (ab[2] +x[i])^2\n",
    "        H_12 += (-4*ab[1] + 2*ab[2] * y[i] + 2*x[i] * y[i]) / (ab[2] + x[i])^3\n",
    "        H_21 += (-4*ab[1] + 2*ab[2] * y[i] + 2*x[i] * y[i]) / (ab[2] + x[i])^3\n",
    "        H_22 += (6*ab[1]^2 - 4*ab[1] * ab[2] * y[i] - 4*ab[1] * x[i] * y[i]) / (ab[2] + x[i])^4\n",
    "    end\n",
    "    F[1], F[2] = G_1, G_2\n",
    "    J[1,1], J[1,2], J[2,1], J[2,2] = H_11, H_12, H_21, H_22\n",
    "    ab = ab - inv(J)*F\n",
    "    iteration += 1\n",
    "end\n",
    "ab"
   ]
  },
  {
   "cell_type": "code",
   "execution_count": 54,
   "metadata": {},
   "outputs": [
    {
     "data": {
      "text/plain": [
       "11-element Vector{Any}:\n",
       " 0.6722545908543935\n",
       " 0.6498319481645164\n",
       " 0.6288568119738309\n",
       " 0.609193398179878\n",
       " 0.5907223908111048\n",
       " 0.5733385188930634\n",
       " 0.556948548933889\n",
       " 0.5414696121716541\n",
       " 0.5268278032178362\n",
       " 0.5129570000779475\n",
       " 0.4997978657956563"
      ]
     },
     "metadata": {},
     "output_type": "display_data"
    }
   ],
   "source": [
    "M = zeros(0)\n",
    "l = []\n",
    "for e in x\n",
    "    f = ab[1]/(ab[2]+e)\n",
    "    append!(l,f)\n",
    "end\n",
    "l"
   ]
  },
  {
   "cell_type": "code",
   "execution_count": 65,
   "metadata": {},
   "outputs": [
    {
     "data": {
      "image/png": "[encoded data removed]",
      "image/svg+xml": "<?xml version=\"1.0\" encoding=\"utf-8\"?>\n<svg xmlns=\"http://www.w3.org/2000/svg\" xmlns:xlink=\"http://www.w3.org/1999/xlink\" width=\"600\" height=\"400\" viewBox=\"0 0 2400 1600\">\n<defs>\n  <clipPath id=\"clip930\">\n    <rect x=\"0\" y=\"0\" width=\"2400\" height=\"1600\"/>\n  </clipPath>\n</defs>\n<path clip-path=\"url(#clip930)\" d=\"\nM0 1600 L2400 1600 L2400 0 L0 0  Z\n  \" fill=\"#ffffff\" fill-rule=\"evenodd\" fill-opacity=\"1\"/>\n<defs>\n  <clipPath id=\"clip931\">\n    <rect x=\"480\" y=\"0\" width=\"1681\" height=\"1600\"/>\n  </clipPath>\n</defs>\n<path clip-path=\"url(#clip930)\" d=\"\nM186.274 1486.45 L2352.76 1486.45 L2352.76 47.2441 L186.274 47.2441  Z\n  \" fill=\"#ffffff\" fill-rule=\"evenodd\" fill-opacity=\"1\"/>\n<defs>\n  <clipPath id=\"clip932\">\n    <rect x=\"186\" y=\"47\" width=\"2167\" height=\"1440\"/>\n  </clipPath>\n</defs>\n<polyline clip-path=\"url(#clip932)\" style=\"stroke:#000000; stroke-linecap:butt; stroke-linejoin:round; stroke-width:2; stroke-opacity:0.1; fill:none\" points=\"\n  247.59,1486.45 247.59,47.2441 \n  \"/>\n<polyline clip-path=\"url(#clip932)\" style=\"stroke:#000000; stroke-linecap:butt; stroke-linejoin:round; stroke-width:2; stroke-opacity:0.1; fill:none\" points=\"\n  758.552,1486.45 758.552,47.2441 \n  \"/>\n<polyline clip-path=\"url(#clip932)\" style=\"stroke:#000000; stroke-linecap:butt; stroke-linejoin:round; stroke-width:2; stroke-opacity:0.1; fill:none\" points=\"\n  1269.51,1486.45 1269.51,47.2441 \n  \"/>\n<polyline clip-path=\"url(#clip932)\" style=\"stroke:#000000; stroke-linecap:butt; stroke-linejoin:round; stroke-width:2; stroke-opacity:0.1; fill:none\" points=\"\n  1780.48,1486.45 1780.48,47.2441 \n  \"/>\n<polyline clip-path=\"url(#clip932)\" style=\"stroke:#000000; stroke-linecap:butt; stroke-linejoin:round; stroke-width:2; stroke-opacity:0.1; fill:none\" points=\"\n  2291.44,1486.45 2291.44,47.2441 \n  \"/>\n<polyline clip-path=\"url(#clip930)\" style=\"stroke:#000000; stroke-linecap:butt; stroke-linejoin:round; stroke-width:4; stroke-opacity:1; fill:none\" points=\"\n  186.274,1486.45 2352.76,1486.45 \n  \"/>\n<polyline clip-path=\"url(#clip930)\" style=\"stroke:#000000; stroke-linecap:butt; stroke-linejoin:round; stroke-width:4; stroke-opacity:1; fill:none\" points=\"\n  247.59,1486.45 247.59,1467.55 \n  \"/>\n<polyline clip-path=\"url(#clip930)\" style=\"stroke:#000000; stroke-linecap:butt; stroke-linejoin:round; stroke-width:4; stroke-opacity:1; fill:none\" points=\"\n  758.552,1486.45 758.552,1467.55 \n  \"/>\n<polyline clip-path=\"url(#clip930)\" style=\"stroke:#000000; stroke-linecap:butt; stroke-linejoin:round; stroke-width:4; stroke-opacity:1; fill:none\" points=\"\n  1269.51,1486.45 1269.51,1467.55 \n  \"/>\n<polyline clip-path=\"url(#clip930)\" style=\"stroke:#000000; stroke-linecap:butt; stroke-linejoin:round; stroke-width:4; stroke-opacity:1; fill:none\" points=\"\n  1780.48,1486.45 1780.48,1467.55 \n  \"/>\n<polyline clip-path=\"url(#clip930)\" style=\"stroke:#000000; stroke-linecap:butt; stroke-linejoin:round; stroke-width:4; stroke-opacity:1; fill:none\" points=\"\n  2291.44,1486.45 2291.44,1467.55 \n  \"/>\n<path clip-path=\"url(#clip930)\" d=\"M209.893 1517.37 Q206.282 1517.37 204.453 1520.93 Q202.648 1524.47 202.648 1531.6 Q202.648 1538.71 204.453 1542.27 Q206.282 1545.82 209.893 1545.82 Q213.527 1545.82 215.333 1542.27 Q217.161 1538.71 217.161 1531.6 Q217.161 1524.47 215.333 1520.93 Q213.527 1517.37 209.893 1517.37 M209.893 1513.66 Q215.703 1513.66 218.759 1518.27 Q221.837 1522.85 221.837 1531.6 Q221.837 1540.33 218.759 1544.94 Q215.703 1549.52 209.893 1549.52 Q204.083 1549.52 201.004 1544.94 Q197.949 1540.33 197.949 1531.6 Q197.949 1522.85 201.004 1518.27 Q204.083 1513.66 209.893 1513.66 Z\" fill=\"#000000\" fill-rule=\"evenodd\" fill-opacity=\"1\" /><path clip-path=\"url(#clip930)\" d=\"M230.055 1542.97 L234.939 1542.97 L234.939 1548.85 L230.055 1548.85 L230.055 1542.97 Z\" fill=\"#000000\" fill-rule=\"evenodd\" fill-opacity=\"1\" /><path clip-path=\"url(#clip930)\" d=\"M255.124 1517.37 Q251.513 1517.37 249.684 1520.93 Q247.879 1524.47 247.879 1531.6 Q247.879 1538.71 249.684 1542.27 Q251.513 1545.82 255.124 1545.82 Q258.758 1545.82 260.564 1542.27 Q262.393 1538.71 262.393 1531.6 Q262.393 1524.47 260.564 1520.93 Q258.758 1517.37 255.124 1517.37 M255.124 1513.66 Q260.934 1513.66 263.99 1518.27 Q267.069 1522.85 267.069 1531.6 Q267.069 1540.33 263.99 1544.94 Q260.934 1549.52 255.124 1549.52 Q249.314 1549.52 246.235 1544.94 Q243.18 1540.33 243.18 1531.6 Q243.18 1522.85 246.235 1518.27 Q249.314 1513.66 255.124 1513.66 Z\" fill=\"#000000\" fill-rule=\"evenodd\" fill-opacity=\"1\" /><path clip-path=\"url(#clip930)\" d=\"M285.286 1517.37 Q281.675 1517.37 279.846 1520.93 Q278.041 1524.47 278.041 1531.6 Q278.041 1538.71 279.846 1542.27 Q281.675 1545.82 285.286 1545.82 Q288.92 1545.82 290.726 1542.27 Q292.555 1538.71 292.555 1531.6 Q292.555 1524.47 290.726 1520.93 Q288.92 1517.37 285.286 1517.37 M285.286 1513.66 Q291.096 1513.66 294.152 1518.27 Q297.23 1522.85 297.23 1531.6 Q297.23 1540.33 294.152 1544.94 Q291.096 1549.52 285.286 1549.52 Q279.476 1549.52 276.397 1544.94 Q273.342 1540.33 273.342 1531.6 Q273.342 1522.85 276.397 1518.27 Q279.476 1513.66 285.286 1513.66 Z\" fill=\"#000000\" fill-rule=\"evenodd\" fill-opacity=\"1\" /><path clip-path=\"url(#clip930)\" d=\"M721.353 1517.37 Q717.742 1517.37 715.914 1520.93 Q714.108 1524.47 714.108 1531.6 Q714.108 1538.71 715.914 1542.27 Q717.742 1545.82 721.353 1545.82 Q724.988 1545.82 726.793 1542.27 Q728.622 1538.71 728.622 1531.6 Q728.622 1524.47 726.793 1520.93 Q724.988 1517.37 721.353 1517.37 M721.353 1513.66 Q727.164 1513.66 730.219 1518.27 Q733.298 1522.85 733.298 1531.6 Q733.298 1540.33 730.219 1544.94 Q727.164 1549.52 721.353 1549.52 Q715.543 1549.52 712.465 1544.94 Q709.409 1540.33 709.409 1531.6 Q709.409 1522.85 712.465 1518.27 Q715.543 1513.66 721.353 1513.66 Z\" fill=\"#000000\" fill-rule=\"evenodd\" fill-opacity=\"1\" /><path clip-path=\"url(#clip930)\" d=\"M741.515 1542.97 L746.4 1542.97 L746.4 1548.85 L741.515 1548.85 L741.515 1542.97 Z\" fill=\"#000000\" fill-rule=\"evenodd\" fill-opacity=\"1\" /><path clip-path=\"url(#clip930)\" d=\"M760.612 1544.91 L776.932 1544.91 L776.932 1548.85 L754.987 1548.85 L754.987 1544.91 Q757.649 1542.16 762.233 1537.53 Q766.839 1532.88 768.02 1531.53 Q770.265 1529.01 771.145 1527.27 Q772.048 1525.51 772.048 1523.82 Q772.048 1521.07 770.103 1519.33 Q768.182 1517.6 765.08 1517.6 Q762.881 1517.6 760.427 1518.36 Q757.997 1519.13 755.219 1520.68 L755.219 1515.95 Q758.043 1514.82 760.497 1514.24 Q762.95 1513.66 764.987 1513.66 Q770.358 1513.66 773.552 1516.35 Q776.747 1519.03 776.747 1523.52 Q776.747 1525.65 775.936 1527.57 Q775.149 1529.47 773.043 1532.07 Q772.464 1532.74 769.362 1535.95 Q766.261 1539.15 760.612 1544.91 Z\" fill=\"#000000\" fill-rule=\"evenodd\" fill-opacity=\"1\" /><path clip-path=\"url(#clip930)\" d=\"M786.793 1514.29 L805.149 1514.29 L805.149 1518.22 L791.075 1518.22 L791.075 1526.7 Q792.094 1526.35 793.112 1526.19 Q794.131 1526 795.149 1526 Q800.936 1526 804.316 1529.17 Q807.695 1532.34 807.695 1537.76 Q807.695 1543.34 804.223 1546.44 Q800.751 1549.52 794.432 1549.52 Q792.256 1549.52 789.987 1549.15 Q787.742 1548.78 785.335 1548.04 L785.335 1543.34 Q787.418 1544.47 789.64 1545.03 Q791.862 1545.58 794.339 1545.58 Q798.344 1545.58 800.682 1543.48 Q803.02 1541.37 803.02 1537.76 Q803.02 1534.15 800.682 1532.04 Q798.344 1529.94 794.339 1529.94 Q792.464 1529.94 790.589 1530.35 Q788.737 1530.77 786.793 1531.65 L786.793 1514.29 Z\" fill=\"#000000\" fill-rule=\"evenodd\" fill-opacity=\"1\" /><path clip-path=\"url(#clip930)\" d=\"M1231.82 1517.37 Q1228.21 1517.37 1226.38 1520.93 Q1224.57 1524.47 1224.57 1531.6 Q1224.57 1538.71 1226.38 1542.27 Q1228.21 1545.82 1231.82 1545.82 Q1235.45 1545.82 1237.26 1542.27 Q1239.09 1538.71 1239.09 1531.6 Q1239.09 1524.47 1237.26 1520.93 Q1235.45 1517.37 1231.82 1517.37 M1231.82 1513.66 Q1237.63 1513.66 1240.68 1518.27 Q1243.76 1522.85 1243.76 1531.6 Q1243.76 1540.33 1240.68 1544.94 Q1237.63 1549.52 1231.82 1549.52 Q1226.01 1549.52 1222.93 1544.94 Q1219.87 1540.33 1219.87 1531.6 Q1219.87 1522.85 1222.93 1518.27 Q1226.01 1513.66 1231.82 1513.66 Z\" fill=\"#000000\" fill-rule=\"evenodd\" fill-opacity=\"1\" /><path clip-path=\"url(#clip930)\" d=\"M1251.98 1542.97 L1256.86 1542.97 L1256.86 1548.85 L1251.98 1548.85 L1251.98 1542.97 Z\" fill=\"#000000\" fill-rule=\"evenodd\" fill-opacity=\"1\" /><path clip-path=\"url(#clip930)\" d=\"M1267.1 1514.29 L1285.45 1514.29 L1285.45 1518.22 L1271.38 1518.22 L1271.38 1526.7 Q1272.4 1526.35 1273.42 1526.19 Q1274.43 1526 1275.45 1526 Q1281.24 1526 1284.62 1529.17 Q1288 1532.34 1288 1537.76 Q1288 1543.34 1284.53 1546.44 Q1281.05 1549.52 1274.73 1549.52 Q1272.56 1549.52 1270.29 1549.15 Q1268.05 1548.78 1265.64 1548.04 L1265.64 1543.34 Q1267.72 1544.47 1269.94 1545.03 Q1272.17 1545.58 1274.64 1545.58 Q1278.65 1545.58 1280.98 1543.48 Q1283.32 1541.37 1283.32 1537.76 Q1283.32 1534.15 1280.98 1532.04 Q1278.65 1529.94 1274.64 1529.94 Q1272.77 1529.94 1270.89 1530.35 Q1269.04 1530.77 1267.1 1531.65 L1267.1 1514.29 Z\" fill=\"#000000\" fill-rule=\"evenodd\" fill-opacity=\"1\" /><path clip-path=\"url(#clip930)\" d=\"M1307.21 1517.37 Q1303.6 1517.37 1301.77 1520.93 Q1299.97 1524.47 1299.97 1531.6 Q1299.97 1538.71 1301.77 1542.27 Q1303.6 1545.82 1307.21 1545.82 Q1310.85 1545.82 1312.65 1542.27 Q1314.48 1538.71 1314.48 1531.6 Q1314.48 1524.47 1312.65 1520.93 Q1310.85 1517.37 1307.21 1517.37 M1307.21 1513.66 Q1313.02 1513.66 1316.08 1518.27 Q1319.16 1522.85 1319.16 1531.6 Q1319.16 1540.33 1316.08 1544.94 Q1313.02 1549.52 1307.21 1549.52 Q1301.4 1549.52 1298.32 1544.94 Q1295.27 1540.33 1295.27 1531.6 Q1295.27 1522.85 1298.32 1518.27 Q1301.4 1513.66 1307.21 1513.66 Z\" fill=\"#000000\" fill-rule=\"evenodd\" fill-opacity=\"1\" /><path clip-path=\"url(#clip930)\" d=\"M1743.28 1517.37 Q1739.67 1517.37 1737.84 1520.93 Q1736.03 1524.47 1736.03 1531.6 Q1736.03 1538.71 1737.84 1542.27 Q1739.67 1545.82 1743.28 1545.82 Q1746.91 1545.82 1748.72 1542.27 Q1750.55 1538.71 1750.55 1531.6 Q1750.55 1524.47 1748.72 1520.93 Q1746.91 1517.37 1743.28 1517.37 M1743.28 1513.66 Q1749.09 1513.66 1752.14 1518.27 Q1755.22 1522.85 1755.22 1531.6 Q1755.22 1540.33 1752.14 1544.94 Q1749.09 1549.52 1743.28 1549.52 Q1737.47 1549.52 1734.39 1544.94 Q1731.33 1540.33 1731.33 1531.6 Q1731.33 1522.85 1734.39 1518.27 Q1737.47 1513.66 1743.28 1513.66 Z\" fill=\"#000000\" fill-rule=\"evenodd\" fill-opacity=\"1\" /><path clip-path=\"url(#clip930)\" d=\"M1763.44 1542.97 L1768.32 1542.97 L1768.32 1548.85 L1763.44 1548.85 L1763.44 1542.97 Z\" fill=\"#000000\" fill-rule=\"evenodd\" fill-opacity=\"1\" /><path clip-path=\"url(#clip930)\" d=\"M1777.33 1514.29 L1799.55 1514.29 L1799.55 1516.28 L1787.01 1548.85 L1782.12 1548.85 L1793.93 1518.22 L1777.33 1518.22 L1777.33 1514.29 Z\" fill=\"#000000\" fill-rule=\"evenodd\" fill-opacity=\"1\" /><path clip-path=\"url(#clip930)\" d=\"M1808.72 1514.29 L1827.07 1514.29 L1827.07 1518.22 L1813 1518.22 L1813 1526.7 Q1814.02 1526.35 1815.04 1526.19 Q1816.06 1526 1817.07 1526 Q1822.86 1526 1826.24 1529.17 Q1829.62 1532.34 1829.62 1537.76 Q1829.62 1543.34 1826.15 1546.44 Q1822.68 1549.52 1816.36 1549.52 Q1814.18 1549.52 1811.91 1549.15 Q1809.67 1548.78 1807.26 1548.04 L1807.26 1543.34 Q1809.34 1544.47 1811.57 1545.03 Q1813.79 1545.58 1816.26 1545.58 Q1820.27 1545.58 1822.61 1543.48 Q1824.95 1541.37 1824.95 1537.76 Q1824.95 1534.15 1822.61 1532.04 Q1820.27 1529.94 1816.26 1529.94 Q1814.39 1529.94 1812.51 1530.35 Q1810.66 1530.77 1808.72 1531.65 L1808.72 1514.29 Z\" fill=\"#000000\" fill-rule=\"evenodd\" fill-opacity=\"1\" /><path clip-path=\"url(#clip930)\" d=\"M2243.51 1544.91 L2251.15 1544.91 L2251.15 1518.55 L2242.84 1520.21 L2242.84 1515.95 L2251.1 1514.29 L2255.78 1514.29 L2255.78 1544.91 L2263.42 1544.91 L2263.42 1548.85 L2243.51 1548.85 L2243.51 1544.91 Z\" fill=\"#000000\" fill-rule=\"evenodd\" fill-opacity=\"1\" /><path clip-path=\"url(#clip930)\" d=\"M2272.86 1542.97 L2277.75 1542.97 L2277.75 1548.85 L2272.86 1548.85 L2272.86 1542.97 Z\" fill=\"#000000\" fill-rule=\"evenodd\" fill-opacity=\"1\" /><path clip-path=\"url(#clip930)\" d=\"M2297.93 1517.37 Q2294.32 1517.37 2292.49 1520.93 Q2290.69 1524.47 2290.69 1531.6 Q2290.69 1538.71 2292.49 1542.27 Q2294.32 1545.82 2297.93 1545.82 Q2301.57 1545.82 2303.37 1542.27 Q2305.2 1538.71 2305.2 1531.6 Q2305.2 1524.47 2303.37 1520.93 Q2301.57 1517.37 2297.93 1517.37 M2297.93 1513.66 Q2303.74 1513.66 2306.8 1518.27 Q2309.88 1522.85 2309.88 1531.6 Q2309.88 1540.33 2306.8 1544.94 Q2303.74 1549.52 2297.93 1549.52 Q2292.12 1549.52 2289.04 1544.94 Q2285.99 1540.33 2285.99 1531.6 Q2285.99 1522.85 2289.04 1518.27 Q2292.12 1513.66 2297.93 1513.66 Z\" fill=\"#000000\" fill-rule=\"evenodd\" fill-opacity=\"1\" /><path clip-path=\"url(#clip930)\" d=\"M2328.1 1517.37 Q2324.48 1517.37 2322.66 1520.93 Q2320.85 1524.47 2320.85 1531.6 Q2320.85 1538.71 2322.66 1542.27 Q2324.48 1545.82 2328.1 1545.82 Q2331.73 1545.82 2333.54 1542.27 Q2335.36 1538.71 2335.36 1531.6 Q2335.36 1524.47 2333.54 1520.93 Q2331.73 1517.37 2328.1 1517.37 M2328.1 1513.66 Q2333.91 1513.66 2336.96 1518.27 Q2340.04 1522.85 2340.04 1531.6 Q2340.04 1540.33 2336.96 1544.94 Q2333.91 1549.52 2328.1 1549.52 Q2322.29 1549.52 2319.21 1544.94 Q2316.15 1540.33 2316.15 1531.6 Q2316.15 1522.85 2319.21 1518.27 Q2322.29 1513.66 2328.1 1513.66 Z\" fill=\"#000000\" fill-rule=\"evenodd\" fill-opacity=\"1\" /><polyline clip-path=\"url(#clip932)\" style=\"stroke:#000000; stroke-linecap:butt; stroke-linejoin:round; stroke-width:2; stroke-opacity:0.1; fill:none\" points=\"\n  186.274,1389.8 2352.76,1389.8 \n  \"/>\n<polyline clip-path=\"url(#clip932)\" style=\"stroke:#000000; stroke-linecap:butt; stroke-linejoin:round; stroke-width:2; stroke-opacity:0.1; fill:none\" points=\"\n  186.274,1020.28 2352.76,1020.28 \n  \"/>\n<polyline clip-path=\"url(#clip932)\" style=\"stroke:#000000; stroke-linecap:butt; stroke-linejoin:round; stroke-width:2; stroke-opacity:0.1; fill:none\" points=\"\n  186.274,650.754 2352.76,650.754 \n  \"/>\n<polyline clip-path=\"url(#clip932)\" style=\"stroke:#000000; stroke-linecap:butt; stroke-linejoin:round; stroke-width:2; stroke-opacity:0.1; fill:none\" points=\"\n  186.274,281.229 2352.76,281.229 \n  \"/>\n<polyline clip-path=\"url(#clip930)\" style=\"stroke:#000000; stroke-linecap:butt; stroke-linejoin:round; stroke-width:4; stroke-opacity:1; fill:none\" points=\"\n  186.274,1486.45 186.274,47.2441 \n  \"/>\n<polyline clip-path=\"url(#clip930)\" style=\"stroke:#000000; stroke-linecap:butt; stroke-linejoin:round; stroke-width:4; stroke-opacity:1; fill:none\" points=\"\n  186.274,1389.8 205.172,1389.8 \n  \"/>\n<polyline clip-path=\"url(#clip930)\" style=\"stroke:#000000; stroke-linecap:butt; stroke-linejoin:round; stroke-width:4; stroke-opacity:1; fill:none\" points=\"\n  186.274,1020.28 205.172,1020.28 \n  \"/>\n<polyline clip-path=\"url(#clip930)\" style=\"stroke:#000000; stroke-linecap:butt; stroke-linejoin:round; stroke-width:4; stroke-opacity:1; fill:none\" points=\"\n  186.274,650.754 205.172,650.754 \n  \"/>\n<polyline clip-path=\"url(#clip930)\" style=\"stroke:#000000; stroke-linecap:butt; stroke-linejoin:round; stroke-width:4; stroke-opacity:1; fill:none\" points=\"\n  186.274,281.229 205.172,281.229 \n  \"/>\n<path clip-path=\"url(#clip930)\" d=\"M62.9365 1375.6 Q59.3254 1375.6 57.4967 1379.17 Q55.6912 1382.71 55.6912 1389.84 Q55.6912 1396.94 57.4967 1400.51 Q59.3254 1404.05 62.9365 1404.05 Q66.5707 1404.05 68.3763 1400.51 Q70.205 1396.94 70.205 1389.84 Q70.205 1382.71 68.3763 1379.17 Q66.5707 1375.6 62.9365 1375.6 M62.9365 1371.9 Q68.7467 1371.9 71.8022 1376.5 Q74.8809 1381.09 74.8809 1389.84 Q74.8809 1398.56 71.8022 1403.17 Q68.7467 1407.75 62.9365 1407.75 Q57.1264 1407.75 54.0477 1403.17 Q50.9921 1398.56 50.9921 1389.84 Q50.9921 1381.09 54.0477 1376.5 Q57.1264 1371.9 62.9365 1371.9 Z\" fill=\"#000000\" fill-rule=\"evenodd\" fill-opacity=\"1\" /><path clip-path=\"url(#clip930)\" d=\"M83.0984 1401.2 L87.9827 1401.2 L87.9827 1407.08 L83.0984 1407.08 L83.0984 1401.2 Z\" fill=\"#000000\" fill-rule=\"evenodd\" fill-opacity=\"1\" /><path clip-path=\"url(#clip930)\" d=\"M98.2141 1372.52 L116.57 1372.52 L116.57 1376.46 L102.496 1376.46 L102.496 1384.93 Q103.515 1384.58 104.534 1384.42 Q105.552 1384.23 106.571 1384.23 Q112.358 1384.23 115.737 1387.41 Q119.117 1390.58 119.117 1395.99 Q119.117 1401.57 115.645 1404.67 Q112.172 1407.75 105.853 1407.75 Q103.677 1407.75 101.409 1407.38 Q99.1632 1407.01 96.7558 1406.27 L96.7558 1401.57 Q98.8391 1402.71 101.061 1403.26 Q103.284 1403.82 105.76 1403.82 Q109.765 1403.82 112.103 1401.71 Q114.441 1399.61 114.441 1395.99 Q114.441 1392.38 112.103 1390.28 Q109.765 1388.17 105.76 1388.17 Q103.885 1388.17 102.01 1388.59 Q100.159 1389 98.2141 1389.88 L98.2141 1372.52 Z\" fill=\"#000000\" fill-rule=\"evenodd\" fill-opacity=\"1\" /><path clip-path=\"url(#clip930)\" d=\"M138.33 1375.6 Q134.719 1375.6 132.89 1379.17 Q131.084 1382.71 131.084 1389.84 Q131.084 1396.94 132.89 1400.51 Q134.719 1404.05 138.33 1404.05 Q141.964 1404.05 143.769 1400.51 Q145.598 1396.94 145.598 1389.84 Q145.598 1382.71 143.769 1379.17 Q141.964 1375.6 138.33 1375.6 M138.33 1371.9 Q144.14 1371.9 147.195 1376.5 Q150.274 1381.09 150.274 1389.84 Q150.274 1398.56 147.195 1403.17 Q144.14 1407.75 138.33 1407.75 Q132.519 1407.75 129.441 1403.17 Q126.385 1398.56 126.385 1389.84 Q126.385 1381.09 129.441 1376.5 Q132.519 1371.9 138.33 1371.9 Z\" fill=\"#000000\" fill-rule=\"evenodd\" fill-opacity=\"1\" /><path clip-path=\"url(#clip930)\" d=\"M63.9319 1006.08 Q60.3208 1006.08 58.4921 1009.64 Q56.6865 1013.18 56.6865 1020.31 Q56.6865 1027.42 58.4921 1030.98 Q60.3208 1034.53 63.9319 1034.53 Q67.5661 1034.53 69.3717 1030.98 Q71.2004 1027.42 71.2004 1020.31 Q71.2004 1013.18 69.3717 1009.64 Q67.5661 1006.08 63.9319 1006.08 M63.9319 1002.37 Q69.742 1002.37 72.7976 1006.98 Q75.8763 1011.56 75.8763 1020.31 Q75.8763 1029.04 72.7976 1033.65 Q69.742 1038.23 63.9319 1038.23 Q58.1217 1038.23 55.043 1033.65 Q51.9875 1029.04 51.9875 1020.31 Q51.9875 1011.56 55.043 1006.98 Q58.1217 1002.37 63.9319 1002.37 Z\" fill=\"#000000\" fill-rule=\"evenodd\" fill-opacity=\"1\" /><path clip-path=\"url(#clip930)\" d=\"M84.0938 1031.68 L88.978 1031.68 L88.978 1037.56 L84.0938 1037.56 L84.0938 1031.68 Z\" fill=\"#000000\" fill-rule=\"evenodd\" fill-opacity=\"1\" /><path clip-path=\"url(#clip930)\" d=\"M99.2095 1003 L117.566 1003 L117.566 1006.93 L103.492 1006.93 L103.492 1015.41 Q104.51 1015.06 105.529 1014.9 Q106.547 1014.71 107.566 1014.71 Q113.353 1014.71 116.733 1017.88 Q120.112 1021.05 120.112 1026.47 Q120.112 1032.05 116.64 1035.15 Q113.168 1038.23 106.848 1038.23 Q104.672 1038.23 102.404 1037.86 Q100.159 1037.49 97.7511 1036.75 L97.7511 1032.05 Q99.8345 1033.18 102.057 1033.74 Q104.279 1034.29 106.756 1034.29 Q110.76 1034.29 113.098 1032.19 Q115.436 1030.08 115.436 1026.47 Q115.436 1022.86 113.098 1020.75 Q110.76 1018.65 106.756 1018.65 Q104.881 1018.65 103.006 1019.06 Q101.154 1019.48 99.2095 1020.36 L99.2095 1003 Z\" fill=\"#000000\" fill-rule=\"evenodd\" fill-opacity=\"1\" /><path clip-path=\"url(#clip930)\" d=\"M129.371 1003 L147.728 1003 L147.728 1006.93 L133.654 1006.93 L133.654 1015.41 Q134.672 1015.06 135.691 1014.9 Q136.709 1014.71 137.728 1014.71 Q143.515 1014.71 146.894 1017.88 Q150.274 1021.05 150.274 1026.47 Q150.274 1032.05 146.802 1035.15 Q143.33 1038.23 137.01 1038.23 Q134.834 1038.23 132.566 1037.86 Q130.32 1037.49 127.913 1036.75 L127.913 1032.05 Q129.996 1033.18 132.219 1033.74 Q134.441 1034.29 136.918 1034.29 Q140.922 1034.29 143.26 1032.19 Q145.598 1030.08 145.598 1026.47 Q145.598 1022.86 143.26 1020.75 Q140.922 1018.65 136.918 1018.65 Q135.043 1018.65 133.168 1019.06 Q131.316 1019.48 129.371 1020.36 L129.371 1003 Z\" fill=\"#000000\" fill-rule=\"evenodd\" fill-opacity=\"1\" /><path clip-path=\"url(#clip930)\" d=\"M62.9365 636.552 Q59.3254 636.552 57.4967 640.117 Q55.6912 643.659 55.6912 650.788 Q55.6912 657.895 57.4967 661.459 Q59.3254 665.001 62.9365 665.001 Q66.5707 665.001 68.3763 661.459 Q70.205 657.895 70.205 650.788 Q70.205 643.659 68.3763 640.117 Q66.5707 636.552 62.9365 636.552 M62.9365 632.849 Q68.7467 632.849 71.8022 637.455 Q74.8809 642.038 74.8809 650.788 Q74.8809 659.515 71.8022 664.122 Q68.7467 668.705 62.9365 668.705 Q57.1264 668.705 54.0477 664.122 Q50.9921 659.515 50.9921 650.788 Q50.9921 642.038 54.0477 637.455 Q57.1264 632.849 62.9365 632.849 Z\" fill=\"#000000\" fill-rule=\"evenodd\" fill-opacity=\"1\" /><path clip-path=\"url(#clip930)\" d=\"M83.0984 662.154 L87.9827 662.154 L87.9827 668.034 L83.0984 668.034 L83.0984 662.154 Z\" fill=\"#000000\" fill-rule=\"evenodd\" fill-opacity=\"1\" /><path clip-path=\"url(#clip930)\" d=\"M108.746 648.89 Q105.598 648.89 103.746 651.043 Q101.918 653.196 101.918 656.946 Q101.918 660.672 103.746 662.848 Q105.598 665.001 108.746 665.001 Q111.895 665.001 113.723 662.848 Q115.575 660.672 115.575 656.946 Q115.575 653.196 113.723 651.043 Q111.895 648.89 108.746 648.89 M118.029 634.237 L118.029 638.497 Q116.27 637.663 114.464 637.224 Q112.682 636.784 110.922 636.784 Q106.293 636.784 103.839 639.909 Q101.409 643.034 101.061 649.353 Q102.427 647.339 104.487 646.274 Q106.547 645.186 109.024 645.186 Q114.233 645.186 117.242 648.358 Q120.274 651.506 120.274 656.946 Q120.274 662.27 117.126 665.487 Q113.978 668.705 108.746 668.705 Q102.751 668.705 99.5798 664.122 Q96.4085 659.515 96.4085 650.788 Q96.4085 642.594 100.297 637.733 Q104.186 632.849 110.737 632.849 Q112.496 632.849 114.279 633.196 Q116.084 633.543 118.029 634.237 Z\" fill=\"#000000\" fill-rule=\"evenodd\" fill-opacity=\"1\" /><path clip-path=\"url(#clip930)\" d=\"M138.33 636.552 Q134.719 636.552 132.89 640.117 Q131.084 643.659 131.084 650.788 Q131.084 657.895 132.89 661.459 Q134.719 665.001 138.33 665.001 Q141.964 665.001 143.769 661.459 Q145.598 657.895 145.598 650.788 Q145.598 643.659 143.769 640.117 Q141.964 636.552 138.33 636.552 M138.33 632.849 Q144.14 632.849 147.195 637.455 Q150.274 642.038 150.274 650.788 Q150.274 659.515 147.195 664.122 Q144.14 668.705 138.33 668.705 Q132.519 668.705 129.441 664.122 Q126.385 659.515 126.385 650.788 Q126.385 642.038 129.441 637.455 Q132.519 632.849 138.33 632.849 Z\" fill=\"#000000\" fill-rule=\"evenodd\" fill-opacity=\"1\" /><path clip-path=\"url(#clip930)\" d=\"M63.9319 267.028 Q60.3208 267.028 58.4921 270.593 Q56.6865 274.134 56.6865 281.264 Q56.6865 288.37 58.4921 291.935 Q60.3208 295.477 63.9319 295.477 Q67.5661 295.477 69.3717 291.935 Q71.2004 288.37 71.2004 281.264 Q71.2004 274.134 69.3717 270.593 Q67.5661 267.028 63.9319 267.028 M63.9319 263.324 Q69.742 263.324 72.7976 267.931 Q75.8763 272.514 75.8763 281.264 Q75.8763 289.991 72.7976 294.597 Q69.742 299.181 63.9319 299.181 Q58.1217 299.181 55.043 294.597 Q51.9875 289.991 51.9875 281.264 Q51.9875 272.514 55.043 267.931 Q58.1217 263.324 63.9319 263.324 Z\" fill=\"#000000\" fill-rule=\"evenodd\" fill-opacity=\"1\" /><path clip-path=\"url(#clip930)\" d=\"M84.0938 292.63 L88.978 292.63 L88.978 298.509 L84.0938 298.509 L84.0938 292.63 Z\" fill=\"#000000\" fill-rule=\"evenodd\" fill-opacity=\"1\" /><path clip-path=\"url(#clip930)\" d=\"M109.742 279.366 Q106.594 279.366 104.742 281.519 Q102.913 283.671 102.913 287.421 Q102.913 291.148 104.742 293.324 Q106.594 295.477 109.742 295.477 Q112.89 295.477 114.719 293.324 Q116.57 291.148 116.57 287.421 Q116.57 283.671 114.719 281.519 Q112.89 279.366 109.742 279.366 M119.024 264.713 L119.024 268.972 Q117.265 268.139 115.459 267.699 Q113.677 267.259 111.918 267.259 Q107.288 267.259 104.834 270.384 Q102.404 273.509 102.057 279.829 Q103.422 277.815 105.483 276.75 Q107.543 275.662 110.02 275.662 Q115.228 275.662 118.237 278.833 Q121.27 281.982 121.27 287.421 Q121.27 292.745 118.121 295.963 Q114.973 299.181 109.742 299.181 Q103.746 299.181 100.575 294.597 Q97.4039 289.991 97.4039 281.264 Q97.4039 273.07 101.293 268.208 Q105.182 263.324 111.733 263.324 Q113.492 263.324 115.274 263.671 Q117.08 264.019 119.024 264.713 Z\" fill=\"#000000\" fill-rule=\"evenodd\" fill-opacity=\"1\" /><path clip-path=\"url(#clip930)\" d=\"M129.371 263.949 L147.728 263.949 L147.728 267.884 L133.654 267.884 L133.654 276.357 Q134.672 276.009 135.691 275.847 Q136.709 275.662 137.728 275.662 Q143.515 275.662 146.894 278.833 Q150.274 282.005 150.274 287.421 Q150.274 293 146.802 296.102 Q143.33 299.181 137.01 299.181 Q134.834 299.181 132.566 298.81 Q130.32 298.44 127.913 297.699 L127.913 293 Q129.996 294.134 132.219 294.69 Q134.441 295.245 136.918 295.245 Q140.922 295.245 143.26 293.139 Q145.598 291.032 145.598 287.421 Q145.598 283.81 143.26 281.704 Q140.922 279.597 136.918 279.597 Q135.043 279.597 133.168 280.014 Q131.316 280.431 129.371 281.31 L129.371 263.949 Z\" fill=\"#000000\" fill-rule=\"evenodd\" fill-opacity=\"1\" /><polyline clip-path=\"url(#clip932)\" style=\"stroke:#009af9; stroke-linecap:butt; stroke-linejoin:round; stroke-width:4; stroke-opacity:1; fill:none\" points=\"\n  247.59,116.757 451.975,282.471 656.36,437.488 860.745,582.81 1065.13,719.32 1269.51,847.795 1473.9,968.925 1678.29,1083.32 1882.67,1191.53 2087.06,1294.04 \n  2291.44,1391.3 \n  \"/>\n<circle clip-path=\"url(#clip932)\" cx=\"247.59\" cy=\"87.9763\" r=\"14\" fill=\"#e26f46\" fill-rule=\"evenodd\" fill-opacity=\"1\" stroke=\"#000000\" stroke-opacity=\"1\" stroke-width=\"3.2\"/>\n<circle clip-path=\"url(#clip932)\" cx=\"451.975\" cy=\"395.266\" r=\"14\" fill=\"#e26f46\" fill-rule=\"evenodd\" fill-opacity=\"1\" stroke=\"#000000\" stroke-opacity=\"1\" stroke-width=\"3.2\"/>\n<circle clip-path=\"url(#clip932)\" cx=\"656.36\" cy=\"357.881\" r=\"14\" fill=\"#e26f46\" fill-rule=\"evenodd\" fill-opacity=\"1\" stroke=\"#000000\" stroke-opacity=\"1\" stroke-width=\"3.2\"/>\n<circle clip-path=\"url(#clip932)\" cx=\"860.745\" cy=\"553.192\" r=\"14\" fill=\"#e26f46\" fill-rule=\"evenodd\" fill-opacity=\"1\" stroke=\"#000000\" stroke-opacity=\"1\" stroke-width=\"3.2\"/>\n<circle clip-path=\"url(#clip932)\" cx=\"1065.13\" cy=\"720.119\" r=\"14\" fill=\"#e26f46\" fill-rule=\"evenodd\" fill-opacity=\"1\" stroke=\"#000000\" stroke-opacity=\"1\" stroke-width=\"3.2\"/>\n<circle clip-path=\"url(#clip932)\" cx=\"1269.51\" cy=\"858.627\" r=\"14\" fill=\"#e26f46\" fill-rule=\"evenodd\" fill-opacity=\"1\" stroke=\"#000000\" stroke-opacity=\"1\" stroke-width=\"3.2\"/>\n<circle clip-path=\"url(#clip932)\" cx=\"1473.9\" cy=\"1002.13\" r=\"14\" fill=\"#e26f46\" fill-rule=\"evenodd\" fill-opacity=\"1\" stroke=\"#000000\" stroke-opacity=\"1\" stroke-width=\"3.2\"/>\n<circle clip-path=\"url(#clip932)\" cx=\"1678.29\" cy=\"1102.02\" r=\"14\" fill=\"#e26f46\" fill-rule=\"evenodd\" fill-opacity=\"1\" stroke=\"#000000\" stroke-opacity=\"1\" stroke-width=\"3.2\"/>\n<circle clip-path=\"url(#clip932)\" cx=\"1882.67\" cy=\"1113.77\" r=\"14\" fill=\"#e26f46\" fill-rule=\"evenodd\" fill-opacity=\"1\" stroke=\"#000000\" stroke-opacity=\"1\" stroke-width=\"3.2\"/>\n<circle clip-path=\"url(#clip932)\" cx=\"2087.06\" cy=\"1279.65\" r=\"14\" fill=\"#e26f46\" fill-rule=\"evenodd\" fill-opacity=\"1\" stroke=\"#000000\" stroke-opacity=\"1\" stroke-width=\"3.2\"/>\n<circle clip-path=\"url(#clip932)\" cx=\"2291.44\" cy=\"1445.72\" r=\"14\" fill=\"#e26f46\" fill-rule=\"evenodd\" fill-opacity=\"1\" stroke=\"#000000\" stroke-opacity=\"1\" stroke-width=\"3.2\"/>\n<path clip-path=\"url(#clip930)\" d=\"\nM1988.11 250.738 L2280.54 250.738 L2280.54 95.2176 L1988.11 95.2176  Z\n  \" fill=\"#ffffff\" fill-rule=\"evenodd\" fill-opacity=\"1\"/>\n<polyline clip-path=\"url(#clip930)\" style=\"stroke:#000000; stroke-linecap:butt; stroke-linejoin:round; stroke-width:4; stroke-opacity:1; fill:none\" points=\"\n  1988.11,250.738 2280.54,250.738 2280.54,95.2176 1988.11,95.2176 1988.11,250.738 \n  \"/>\n<polyline clip-path=\"url(#clip930)\" style=\"stroke:#009af9; stroke-linecap:butt; stroke-linejoin:round; stroke-width:4; stroke-opacity:1; fill:none\" points=\"\n  2012.11,147.058 2156.11,147.058 \n  \"/>\n<path clip-path=\"url(#clip930)\" d=\"M2193.95 166.745 Q2192.15 171.375 2190.43 172.787 Q2188.72 174.199 2185.85 174.199 L2182.45 174.199 L2182.45 170.634 L2184.95 170.634 Q2186.71 170.634 2187.68 169.8 Q2188.65 168.967 2189.83 165.865 L2190.6 163.921 L2180.11 138.412 L2184.62 138.412 L2192.73 158.689 L2200.83 138.412 L2205.34 138.412 L2193.95 166.745 Z\" fill=\"#000000\" fill-rule=\"evenodd\" fill-opacity=\"1\" /><path clip-path=\"url(#clip930)\" d=\"M2212.63 160.402 L2220.27 160.402 L2220.27 134.037 L2211.96 135.703 L2211.96 131.444 L2220.23 129.778 L2224.9 129.778 L2224.9 160.402 L2232.54 160.402 L2232.54 164.338 L2212.63 164.338 L2212.63 160.402 Z\" fill=\"#000000\" fill-rule=\"evenodd\" fill-opacity=\"1\" /><circle clip-path=\"url(#clip930)\" cx=\"2084.11\" cy=\"198.898\" r=\"23\" fill=\"#e26f46\" fill-rule=\"evenodd\" fill-opacity=\"1\" stroke=\"#000000\" stroke-opacity=\"1\" stroke-width=\"5.12\"/>\n<path clip-path=\"url(#clip930)\" d=\"M2193.95 218.585 Q2192.15 223.215 2190.43 224.627 Q2188.72 226.039 2185.85 226.039 L2182.45 226.039 L2182.45 222.474 L2184.95 222.474 Q2186.71 222.474 2187.68 221.64 Q2188.65 220.807 2189.83 217.705 L2190.6 215.761 L2180.11 190.252 L2184.62 190.252 L2192.73 210.529 L2200.83 190.252 L2205.34 190.252 L2193.95 218.585 Z\" fill=\"#000000\" fill-rule=\"evenodd\" fill-opacity=\"1\" /><path clip-path=\"url(#clip930)\" d=\"M2215.85 212.242 L2232.17 212.242 L2232.17 216.178 L2210.23 216.178 L2210.23 212.242 Q2212.89 209.488 2217.47 204.858 Q2222.08 200.205 2223.26 198.863 Q2225.5 196.34 2226.38 194.604 Q2227.29 192.844 2227.29 191.155 Q2227.29 188.4 2225.34 186.664 Q2223.42 184.928 2220.32 184.928 Q2218.12 184.928 2215.66 185.692 Q2213.23 186.455 2210.46 188.006 L2210.46 183.284 Q2213.28 182.15 2215.73 181.571 Q2218.19 180.993 2220.23 180.993 Q2225.6 180.993 2228.79 183.678 Q2231.98 186.363 2231.98 190.854 Q2231.98 192.983 2231.17 194.905 Q2230.39 196.803 2228.28 199.395 Q2227.7 200.067 2224.6 203.284 Q2221.5 206.479 2215.85 212.242 Z\" fill=\"#000000\" fill-rule=\"evenodd\" fill-opacity=\"1\" /></svg>\n",
      "text/html": [
       "<?xml version=\"1.0\" encoding=\"utf-8\"?>\n",
       "<svg xmlns=\"http://www.w3.org/2000/svg\" xmlns:xlink=\"http://www.w3.org/1999/xlink\" width=\"600\" height=\"400\" viewBox=\"0 0 2400 1600\">\n",
       "<defs>\n",
       "  <clipPath id=\"clip980\">\n",
       "    <rect x=\"0\" y=\"0\" width=\"2400\" height=\"1600\"/>\n",
       "  </clipPath>\n",
       "</defs>\n",
       "<path clip-path=\"url(#clip980)\" d=\"\n",
       "M0 1600 L2400 1600 L2400 0 L0 0  Z\n",
       "  \" fill=\"#ffffff\" fill-rule=\"evenodd\" fill-opacity=\"1\"/>\n",
       "<defs>\n",
       "  <clipPath id=\"clip981\">\n",
       "    <rect x=\"480\" y=\"0\" width=\"1681\" height=\"1600\"/>\n",
       "  </clipPath>\n",
       "</defs>\n",
       "<path clip-path=\"url(#clip980)\" d=\"\n",
       "M186.274 1486.45 L2352.76 1486.45 L2352.76 47.2441 L186.274 47.2441  Z\n",
       "  \" fill=\"#ffffff\" fill-rule=\"evenodd\" fill-opacity=\"1\"/>\n",
       "<defs>\n",
       "  <clipPath id=\"clip982\">\n",
       "    <rect x=\"186\" y=\"47\" width=\"2167\" height=\"1440\"/>\n",
       "  </clipPath>\n",
       "</defs>\n",
       "<polyline clip-path=\"url(#clip982)\" style=\"stroke:#000000; stroke-linecap:butt; stroke-linejoin:round; stroke-width:2; stroke-opacity:0.1; fill:none\" points=\"\n",
       "  247.59,1486.45 247.59,47.2441 \n",
       "  \"/>\n",
       "<polyline clip-path=\"url(#clip982)\" style=\"stroke:#000000; stroke-linecap:butt; stroke-linejoin:round; stroke-width:2; stroke-opacity:0.1; fill:none\" points=\"\n",
       "  758.552,1486.45 758.552,47.2441 \n",
       "  \"/>\n",
       "<polyline clip-path=\"url(#clip982)\" style=\"stroke:#000000; stroke-linecap:butt; stroke-linejoin:round; stroke-width:2; stroke-opacity:0.1; fill:none\" points=\"\n",
       "  1269.51,1486.45 1269.51,47.2441 \n",
       "  \"/>\n",
       "<polyline clip-path=\"url(#clip982)\" style=\"stroke:#000000; stroke-linecap:butt; stroke-linejoin:round; stroke-width:2; stroke-opacity:0.1; fill:none\" points=\"\n",
       "  1780.48,1486.45 1780.48,47.2441 \n",
       "  \"/>\n",
       "<polyline clip-path=\"url(#clip982)\" style=\"stroke:#000000; stroke-linecap:butt; stroke-linejoin:round; stroke-width:2; stroke-opacity:0.1; fill:none\" points=\"\n",
       "  2291.44,1486.45 2291.44,47.2441 \n",
       "  \"/>\n",
       "<polyline clip-path=\"url(#clip980)\" style=\"stroke:#000000; stroke-linecap:butt; stroke-linejoin:round; stroke-width:4; stroke-opacity:1; fill:none\" points=\"\n",
       "  186.274,1486.45 2352.76,1486.45 \n",
       "  \"/>\n",
       "<polyline clip-path=\"url(#clip980)\" style=\"stroke:#000000; stroke-linecap:butt; stroke-linejoin:round; stroke-width:4; stroke-opacity:1; fill:none\" points=\"\n",
       "  247.59,1486.45 247.59,1467.55 \n",
       "  \"/>\n",
       "<polyline clip-path=\"url(#clip980)\" style=\"stroke:#000000; stroke-linecap:butt; stroke-linejoin:round; stroke-width:4; stroke-opacity:1; fill:none\" points=\"\n",
       "  758.552,1486.45 758.552,1467.55 \n",
       "  \"/>\n",
       "<polyline clip-path=\"url(#clip980)\" style=\"stroke:#000000; stroke-linecap:butt; stroke-linejoin:round; stroke-width:4; stroke-opacity:1; fill:none\" points=\"\n",
       "  1269.51,1486.45 1269.51,1467.55 \n",
       "  \"/>\n",
       "<polyline clip-path=\"url(#clip980)\" style=\"stroke:#000000; stroke-linecap:butt; stroke-linejoin:round; stroke-width:4; stroke-opacity:1; fill:none\" points=\"\n",
       "  1780.48,1486.45 1780.48,1467.55 \n",
       "  \"/>\n",
       "<polyline clip-path=\"url(#clip980)\" style=\"stroke:#000000; stroke-linecap:butt; stroke-linejoin:round; stroke-width:4; stroke-opacity:1; fill:none\" points=\"\n",
       "  2291.44,1486.45 2291.44,1467.55 \n",
       "  \"/>\n",
       "<path clip-path=\"url(#clip980)\" d=\"M209.893 1517.37 Q206.282 1517.37 204.453 1520.93 Q202.648 1524.47 202.648 1531.6 Q202.648 1538.71 204.453 1542.27 Q206.282 1545.82 209.893 1545.82 Q213.527 1545.82 215.333 1542.27 Q217.161 1538.71 217.161 1531.6 Q217.161 1524.47 215.333 1520.93 Q213.527 1517.37 209.893 1517.37 M209.893 1513.66 Q215.703 1513.66 218.759 1518.27 Q221.837 1522.85 221.837 1531.6 Q221.837 1540.33 218.759 1544.94 Q215.703 1549.52 209.893 1549.52 Q204.083 1549.52 201.004 1544.94 Q197.949 1540.33 197.949 1531.6 Q197.949 1522.85 201.004 1518.27 Q204.083 1513.66 209.893 1513.66 Z\" fill=\"#000000\" fill-rule=\"evenodd\" fill-opacity=\"1\" /><path clip-path=\"url(#clip980)\" d=\"M230.055 1542.97 L234.939 1542.97 L234.939 1548.85 L230.055 1548.85 L230.055 1542.97 Z\" fill=\"#000000\" fill-rule=\"evenodd\" fill-opacity=\"1\" /><path clip-path=\"url(#clip980)\" d=\"M255.124 1517.37 Q251.513 1517.37 249.684 1520.93 Q247.879 1524.47 247.879 1531.6 Q247.879 1538.71 249.684 1542.27 Q251.513 1545.82 255.124 1545.82 Q258.758 1545.82 260.564 1542.27 Q262.393 1538.71 262.393 1531.6 Q262.393 1524.47 260.564 1520.93 Q258.758 1517.37 255.124 1517.37 M255.124 1513.66 Q260.934 1513.66 263.99 1518.27 Q267.069 1522.85 267.069 1531.6 Q267.069 1540.33 263.99 1544.94 Q260.934 1549.52 255.124 1549.52 Q249.314 1549.52 246.235 1544.94 Q243.18 1540.33 243.18 1531.6 Q243.18 1522.85 246.235 1518.27 Q249.314 1513.66 255.124 1513.66 Z\" fill=\"#000000\" fill-rule=\"evenodd\" fill-opacity=\"1\" /><path clip-path=\"url(#clip980)\" d=\"M285.286 1517.37 Q281.675 1517.37 279.846 1520.93 Q278.041 1524.47 278.041 1531.6 Q278.041 1538.71 279.846 1542.27 Q281.675 1545.82 285.286 1545.82 Q288.92 1545.82 290.726 1542.27 Q292.555 1538.71 292.555 1531.6 Q292.555 1524.47 290.726 1520.93 Q288.92 1517.37 285.286 1517.37 M285.286 1513.66 Q291.096 1513.66 294.152 1518.27 Q297.23 1522.85 297.23 1531.6 Q297.23 1540.33 294.152 1544.94 Q291.096 1549.52 285.286 1549.52 Q279.476 1549.52 276.397 1544.94 Q273.342 1540.33 273.342 1531.6 Q273.342 1522.85 276.397 1518.27 Q279.476 1513.66 285.286 1513.66 Z\" fill=\"#000000\" fill-rule=\"evenodd\" fill-opacity=\"1\" /><path clip-path=\"url(#clip980)\" d=\"M721.353 1517.37 Q717.742 1517.37 715.914 1520.93 Q714.108 1524.47 714.108 1531.6 Q714.108 1538.71 715.914 1542.27 Q717.742 1545.82 721.353 1545.82 Q724.988 1545.82 726.793 1542.27 Q728.622 1538.71 728.622 1531.6 Q728.622 1524.47 726.793 1520.93 Q724.988 1517.37 721.353 1517.37 M721.353 1513.66 Q727.164 1513.66 730.219 1518.27 Q733.298 1522.85 733.298 1531.6 Q733.298 1540.33 730.219 1544.94 Q727.164 1549.52 721.353 1549.52 Q715.543 1549.52 712.465 1544.94 Q709.409 1540.33 709.409 1531.6 Q709.409 1522.85 712.465 1518.27 Q715.543 1513.66 721.353 1513.66 Z\" fill=\"#000000\" fill-rule=\"evenodd\" fill-opacity=\"1\" /><path clip-path=\"url(#clip980)\" d=\"M741.515 1542.97 L746.4 1542.97 L746.4 1548.85 L741.515 1548.85 L741.515 1542.97 Z\" fill=\"#000000\" fill-rule=\"evenodd\" fill-opacity=\"1\" /><path clip-path=\"url(#clip980)\" d=\"M760.612 1544.91 L776.932 1544.91 L776.932 1548.85 L754.987 1548.85 L754.987 1544.91 Q757.649 1542.16 762.233 1537.53 Q766.839 1532.88 768.02 1531.53 Q770.265 1529.01 771.145 1527.27 Q772.048 1525.51 772.048 1523.82 Q772.048 1521.07 770.103 1519.33 Q768.182 1517.6 765.08 1517.6 Q762.881 1517.6 760.427 1518.36 Q757.997 1519.13 755.219 1520.68 L755.219 1515.95 Q758.043 1514.82 760.497 1514.24 Q762.95 1513.66 764.987 1513.66 Q770.358 1513.66 773.552 1516.35 Q776.747 1519.03 776.747 1523.52 Q776.747 1525.65 775.936 1527.57 Q775.149 1529.47 773.043 1532.07 Q772.464 1532.74 769.362 1535.95 Q766.261 1539.15 760.612 1544.91 Z\" fill=\"#000000\" fill-rule=\"evenodd\" fill-opacity=\"1\" /><path clip-path=\"url(#clip980)\" d=\"M786.793 1514.29 L805.149 1514.29 L805.149 1518.22 L791.075 1518.22 L791.075 1526.7 Q792.094 1526.35 793.112 1526.19 Q794.131 1526 795.149 1526 Q800.936 1526 804.316 1529.17 Q807.695 1532.34 807.695 1537.76 Q807.695 1543.34 804.223 1546.44 Q800.751 1549.52 794.432 1549.52 Q792.256 1549.52 789.987 1549.15 Q787.742 1548.78 785.335 1548.04 L785.335 1543.34 Q787.418 1544.47 789.64 1545.03 Q791.862 1545.58 794.339 1545.58 Q798.344 1545.58 800.682 1543.48 Q803.02 1541.37 803.02 1537.76 Q803.02 1534.15 800.682 1532.04 Q798.344 1529.94 794.339 1529.94 Q792.464 1529.94 790.589 1530.35 Q788.737 1530.77 786.793 1531.65 L786.793 1514.29 Z\" fill=\"#000000\" fill-rule=\"evenodd\" fill-opacity=\"1\" /><path clip-path=\"url(#clip980)\" d=\"M1231.82 1517.37 Q1228.21 1517.37 1226.38 1520.93 Q1224.57 1524.47 1224.57 1531.6 Q1224.57 1538.71 1226.38 1542.27 Q1228.21 1545.82 1231.82 1545.82 Q1235.45 1545.82 1237.26 1542.27 Q1239.09 1538.71 1239.09 1531.6 Q1239.09 1524.47 1237.26 1520.93 Q1235.45 1517.37 1231.82 1517.37 M1231.82 1513.66 Q1237.63 1513.66 1240.68 1518.27 Q1243.76 1522.85 1243.76 1531.6 Q1243.76 1540.33 1240.68 1544.94 Q1237.63 1549.52 1231.82 1549.52 Q1226.01 1549.52 1222.93 1544.94 Q1219.87 1540.33 1219.87 1531.6 Q1219.87 1522.85 1222.93 1518.27 Q1226.01 1513.66 1231.82 1513.66 Z\" fill=\"#000000\" fill-rule=\"evenodd\" fill-opacity=\"1\" /><path clip-path=\"url(#clip980)\" d=\"M1251.98 1542.97 L1256.86 1542.97 L1256.86 1548.85 L1251.98 1548.85 L1251.98 1542.97 Z\" fill=\"#000000\" fill-rule=\"evenodd\" fill-opacity=\"1\" /><path clip-path=\"url(#clip980)\" d=\"M1267.1 1514.29 L1285.45 1514.29 L1285.45 1518.22 L1271.38 1518.22 L1271.38 1526.7 Q1272.4 1526.35 1273.42 1526.19 Q1274.43 1526 1275.45 1526 Q1281.24 1526 1284.62 1529.17 Q1288 1532.34 1288 1537.76 Q1288 1543.34 1284.53 1546.44 Q1281.05 1549.52 1274.73 1549.52 Q1272.56 1549.52 1270.29 1549.15 Q1268.05 1548.78 1265.64 1548.04 L1265.64 1543.34 Q1267.72 1544.47 1269.94 1545.03 Q1272.17 1545.58 1274.64 1545.58 Q1278.65 1545.58 1280.98 1543.48 Q1283.32 1541.37 1283.32 1537.76 Q1283.32 1534.15 1280.98 1532.04 Q1278.65 1529.94 1274.64 1529.94 Q1272.77 1529.94 1270.89 1530.35 Q1269.04 1530.77 1267.1 1531.65 L1267.1 1514.29 Z\" fill=\"#000000\" fill-rule=\"evenodd\" fill-opacity=\"1\" /><path clip-path=\"url(#clip980)\" d=\"M1307.21 1517.37 Q1303.6 1517.37 1301.77 1520.93 Q1299.97 1524.47 1299.97 1531.6 Q1299.97 1538.71 1301.77 1542.27 Q1303.6 1545.82 1307.21 1545.82 Q1310.85 1545.82 1312.65 1542.27 Q1314.48 1538.71 1314.48 1531.6 Q1314.48 1524.47 1312.65 1520.93 Q1310.85 1517.37 1307.21 1517.37 M1307.21 1513.66 Q1313.02 1513.66 1316.08 1518.27 Q1319.16 1522.85 1319.16 1531.6 Q1319.16 1540.33 1316.08 1544.94 Q1313.02 1549.52 1307.21 1549.52 Q1301.4 1549.52 1298.32 1544.94 Q1295.27 1540.33 1295.27 1531.6 Q1295.27 1522.85 1298.32 1518.27 Q1301.4 1513.66 1307.21 1513.66 Z\" fill=\"#000000\" fill-rule=\"evenodd\" fill-opacity=\"1\" /><path clip-path=\"url(#clip980)\" d=\"M1743.28 1517.37 Q1739.67 1517.37 1737.84 1520.93 Q1736.03 1524.47 1736.03 1531.6 Q1736.03 1538.71 1737.84 1542.27 Q1739.67 1545.82 1743.28 1545.82 Q1746.91 1545.82 1748.72 1542.27 Q1750.55 1538.71 1750.55 1531.6 Q1750.55 1524.47 1748.72 1520.93 Q1746.91 1517.37 1743.28 1517.37 M1743.28 1513.66 Q1749.09 1513.66 1752.14 1518.27 Q1755.22 1522.85 1755.22 1531.6 Q1755.22 1540.33 1752.14 1544.94 Q1749.09 1549.52 1743.28 1549.52 Q1737.47 1549.52 1734.39 1544.94 Q1731.33 1540.33 1731.33 1531.6 Q1731.33 1522.85 1734.39 1518.27 Q1737.47 1513.66 1743.28 1513.66 Z\" fill=\"#000000\" fill-rule=\"evenodd\" fill-opacity=\"1\" /><path clip-path=\"url(#clip980)\" d=\"M1763.44 1542.97 L1768.32 1542.97 L1768.32 1548.85 L1763.44 1548.85 L1763.44 1542.97 Z\" fill=\"#000000\" fill-rule=\"evenodd\" fill-opacity=\"1\" /><path clip-path=\"url(#clip980)\" d=\"M1777.33 1514.29 L1799.55 1514.29 L1799.55 1516.28 L1787.01 1548.85 L1782.12 1548.85 L1793.93 1518.22 L1777.33 1518.22 L1777.33 1514.29 Z\" fill=\"#000000\" fill-rule=\"evenodd\" fill-opacity=\"1\" /><path clip-path=\"url(#clip980)\" d=\"M1808.72 1514.29 L1827.07 1514.29 L1827.07 1518.22 L1813 1518.22 L1813 1526.7 Q1814.02 1526.35 1815.04 1526.19 Q1816.06 1526 1817.07 1526 Q1822.86 1526 1826.24 1529.17 Q1829.62 1532.34 1829.62 1537.76 Q1829.62 1543.34 1826.15 1546.44 Q1822.68 1549.52 1816.36 1549.52 Q1814.18 1549.52 1811.91 1549.15 Q1809.67 1548.78 1807.26 1548.04 L1807.26 1543.34 Q1809.34 1544.47 1811.57 1545.03 Q1813.79 1545.58 1816.26 1545.58 Q1820.27 1545.58 1822.61 1543.48 Q1824.95 1541.37 1824.95 1537.76 Q1824.95 1534.15 1822.61 1532.04 Q1820.27 1529.94 1816.26 1529.94 Q1814.39 1529.94 1812.51 1530.35 Q1810.66 1530.77 1808.72 1531.65 L1808.72 1514.29 Z\" fill=\"#000000\" fill-rule=\"evenodd\" fill-opacity=\"1\" /><path clip-path=\"url(#clip980)\" d=\"M2243.51 1544.91 L2251.15 1544.91 L2251.15 1518.55 L2242.84 1520.21 L2242.84 1515.95 L2251.1 1514.29 L2255.78 1514.29 L2255.78 1544.91 L2263.42 1544.91 L2263.42 1548.85 L2243.51 1548.85 L2243.51 1544.91 Z\" fill=\"#000000\" fill-rule=\"evenodd\" fill-opacity=\"1\" /><path clip-path=\"url(#clip980)\" d=\"M2272.86 1542.97 L2277.75 1542.97 L2277.75 1548.85 L2272.86 1548.85 L2272.86 1542.97 Z\" fill=\"#000000\" fill-rule=\"evenodd\" fill-opacity=\"1\" /><path clip-path=\"url(#clip980)\" d=\"M2297.93 1517.37 Q2294.32 1517.37 2292.49 1520.93 Q2290.69 1524.47 2290.69 1531.6 Q2290.69 1538.71 2292.49 1542.27 Q2294.32 1545.82 2297.93 1545.82 Q2301.57 1545.82 2303.37 1542.27 Q2305.2 1538.71 2305.2 1531.6 Q2305.2 1524.47 2303.37 1520.93 Q2301.57 1517.37 2297.93 1517.37 M2297.93 1513.66 Q2303.74 1513.66 2306.8 1518.27 Q2309.88 1522.85 2309.88 1531.6 Q2309.88 1540.33 2306.8 1544.94 Q2303.74 1549.52 2297.93 1549.52 Q2292.12 1549.52 2289.04 1544.94 Q2285.99 1540.33 2285.99 1531.6 Q2285.99 1522.85 2289.04 1518.27 Q2292.12 1513.66 2297.93 1513.66 Z\" fill=\"#000000\" fill-rule=\"evenodd\" fill-opacity=\"1\" /><path clip-path=\"url(#clip980)\" d=\"M2328.1 1517.37 Q2324.48 1517.37 2322.66 1520.93 Q2320.85 1524.47 2320.85 1531.6 Q2320.85 1538.71 2322.66 1542.27 Q2324.48 1545.82 2328.1 1545.82 Q2331.73 1545.82 2333.54 1542.27 Q2335.36 1538.71 2335.36 1531.6 Q2335.36 1524.47 2333.54 1520.93 Q2331.73 1517.37 2328.1 1517.37 M2328.1 1513.66 Q2333.91 1513.66 2336.96 1518.27 Q2340.04 1522.85 2340.04 1531.6 Q2340.04 1540.33 2336.96 1544.94 Q2333.91 1549.52 2328.1 1549.52 Q2322.29 1549.52 2319.21 1544.94 Q2316.15 1540.33 2316.15 1531.6 Q2316.15 1522.85 2319.21 1518.27 Q2322.29 1513.66 2328.1 1513.66 Z\" fill=\"#000000\" fill-rule=\"evenodd\" fill-opacity=\"1\" /><polyline clip-path=\"url(#clip982)\" style=\"stroke:#000000; stroke-linecap:butt; stroke-linejoin:round; stroke-width:2; stroke-opacity:0.1; fill:none\" points=\"\n",
       "  186.274,1389.8 2352.76,1389.8 \n",
       "  \"/>\n",
       "<polyline clip-path=\"url(#clip982)\" style=\"stroke:#000000; stroke-linecap:butt; stroke-linejoin:round; stroke-width:2; stroke-opacity:0.1; fill:none\" points=\"\n",
       "  186.274,1020.28 2352.76,1020.28 \n",
       "  \"/>\n",
       "<polyline clip-path=\"url(#clip982)\" style=\"stroke:#000000; stroke-linecap:butt; stroke-linejoin:round; stroke-width:2; stroke-opacity:0.1; fill:none\" points=\"\n",
       "  186.274,650.754 2352.76,650.754 \n",
       "  \"/>\n",
       "<polyline clip-path=\"url(#clip982)\" style=\"stroke:#000000; stroke-linecap:butt; stroke-linejoin:round; stroke-width:2; stroke-opacity:0.1; fill:none\" points=\"\n",
       "  186.274,281.229 2352.76,281.229 \n",
       "  \"/>\n",
       "<polyline clip-path=\"url(#clip980)\" style=\"stroke:#000000; stroke-linecap:butt; stroke-linejoin:round; stroke-width:4; stroke-opacity:1; fill:none\" points=\"\n",
       "  186.274,1486.45 186.274,47.2441 \n",
       "  \"/>\n",
       "<polyline clip-path=\"url(#clip980)\" style=\"stroke:#000000; stroke-linecap:butt; stroke-linejoin:round; stroke-width:4; stroke-opacity:1; fill:none\" points=\"\n",
       "  186.274,1389.8 205.172,1389.8 \n",
       "  \"/>\n",
       "<polyline clip-path=\"url(#clip980)\" style=\"stroke:#000000; stroke-linecap:butt; stroke-linejoin:round; stroke-width:4; stroke-opacity:1; fill:none\" points=\"\n",
       "  186.274,1020.28 205.172,1020.28 \n",
       "  \"/>\n",
       "<polyline clip-path=\"url(#clip980)\" style=\"stroke:#000000; stroke-linecap:butt; stroke-linejoin:round; stroke-width:4; stroke-opacity:1; fill:none\" points=\"\n",
       "  186.274,650.754 205.172,650.754 \n",
       "  \"/>\n",
       "<polyline clip-path=\"url(#clip980)\" style=\"stroke:#000000; stroke-linecap:butt; stroke-linejoin:round; stroke-width:4; stroke-opacity:1; fill:none\" points=\"\n",
       "  186.274,281.229 205.172,281.229 \n",
       "  \"/>\n",
       "<path clip-path=\"url(#clip980)\" d=\"M62.9365 1375.6 Q59.3254 1375.6 57.4967 1379.17 Q55.6912 1382.71 55.6912 1389.84 Q55.6912 1396.94 57.4967 1400.51 Q59.3254 1404.05 62.9365 1404.05 Q66.5707 1404.05 68.3763 1400.51 Q70.205 1396.94 70.205 1389.84 Q70.205 1382.71 68.3763 1379.17 Q66.5707 1375.6 62.9365 1375.6 M62.9365 1371.9 Q68.7467 1371.9 71.8022 1376.5 Q74.8809 1381.09 74.8809 1389.84 Q74.8809 1398.56 71.8022 1403.17 Q68.7467 1407.75 62.9365 1407.75 Q57.1264 1407.75 54.0477 1403.17 Q50.9921 1398.56 50.9921 1389.84 Q50.9921 1381.09 54.0477 1376.5 Q57.1264 1371.9 62.9365 1371.9 Z\" fill=\"#000000\" fill-rule=\"evenodd\" fill-opacity=\"1\" /><path clip-path=\"url(#clip980)\" d=\"M83.0984 1401.2 L87.9827 1401.2 L87.9827 1407.08 L83.0984 1407.08 L83.0984 1401.2 Z\" fill=\"#000000\" fill-rule=\"evenodd\" fill-opacity=\"1\" /><path clip-path=\"url(#clip980)\" d=\"M98.2141 1372.52 L116.57 1372.52 L116.57 1376.46 L102.496 1376.46 L102.496 1384.93 Q103.515 1384.58 104.534 1384.42 Q105.552 1384.23 106.571 1384.23 Q112.358 1384.23 115.737 1387.41 Q119.117 1390.58 119.117 1395.99 Q119.117 1401.57 115.645 1404.67 Q112.172 1407.75 105.853 1407.75 Q103.677 1407.75 101.409 1407.38 Q99.1632 1407.01 96.7558 1406.27 L96.7558 1401.57 Q98.8391 1402.71 101.061 1403.26 Q103.284 1403.82 105.76 1403.82 Q109.765 1403.82 112.103 1401.71 Q114.441 1399.61 114.441 1395.99 Q114.441 1392.38 112.103 1390.28 Q109.765 1388.17 105.76 1388.17 Q103.885 1388.17 102.01 1388.59 Q100.159 1389 98.2141 1389.88 L98.2141 1372.52 Z\" fill=\"#000000\" fill-rule=\"evenodd\" fill-opacity=\"1\" /><path clip-path=\"url(#clip980)\" d=\"M138.33 1375.6 Q134.719 1375.6 132.89 1379.17 Q131.084 1382.71 131.084 1389.84 Q131.084 1396.94 132.89 1400.51 Q134.719 1404.05 138.33 1404.05 Q141.964 1404.05 143.769 1400.51 Q145.598 1396.94 145.598 1389.84 Q145.598 1382.71 143.769 1379.17 Q141.964 1375.6 138.33 1375.6 M138.33 1371.9 Q144.14 1371.9 147.195 1376.5 Q150.274 1381.09 150.274 1389.84 Q150.274 1398.56 147.195 1403.17 Q144.14 1407.75 138.33 1407.75 Q132.519 1407.75 129.441 1403.17 Q126.385 1398.56 126.385 1389.84 Q126.385 1381.09 129.441 1376.5 Q132.519 1371.9 138.33 1371.9 Z\" fill=\"#000000\" fill-rule=\"evenodd\" fill-opacity=\"1\" /><path clip-path=\"url(#clip980)\" d=\"M63.9319 1006.08 Q60.3208 1006.08 58.4921 1009.64 Q56.6865 1013.18 56.6865 1020.31 Q56.6865 1027.42 58.4921 1030.98 Q60.3208 1034.53 63.9319 1034.53 Q67.5661 1034.53 69.3717 1030.98 Q71.2004 1027.42 71.2004 1020.31 Q71.2004 1013.18 69.3717 1009.64 Q67.5661 1006.08 63.9319 1006.08 M63.9319 1002.37 Q69.742 1002.37 72.7976 1006.98 Q75.8763 1011.56 75.8763 1020.31 Q75.8763 1029.04 72.7976 1033.65 Q69.742 1038.23 63.9319 1038.23 Q58.1217 1038.23 55.043 1033.65 Q51.9875 1029.04 51.9875 1020.31 Q51.9875 1011.56 55.043 1006.98 Q58.1217 1002.37 63.9319 1002.37 Z\" fill=\"#000000\" fill-rule=\"evenodd\" fill-opacity=\"1\" /><path clip-path=\"url(#clip980)\" d=\"M84.0938 1031.68 L88.978 1031.68 L88.978 1037.56 L84.0938 1037.56 L84.0938 1031.68 Z\" fill=\"#000000\" fill-rule=\"evenodd\" fill-opacity=\"1\" /><path clip-path=\"url(#clip980)\" d=\"M99.2095 1003 L117.566 1003 L117.566 1006.93 L103.492 1006.93 L103.492 1015.41 Q104.51 1015.06 105.529 1014.9 Q106.547 1014.71 107.566 1014.71 Q113.353 1014.71 116.733 1017.88 Q120.112 1021.05 120.112 1026.47 Q120.112 1032.05 116.64 1035.15 Q113.168 1038.23 106.848 1038.23 Q104.672 1038.23 102.404 1037.86 Q100.159 1037.49 97.7511 1036.75 L97.7511 1032.05 Q99.8345 1033.18 102.057 1033.74 Q104.279 1034.29 106.756 1034.29 Q110.76 1034.29 113.098 1032.19 Q115.436 1030.08 115.436 1026.47 Q115.436 1022.86 113.098 1020.75 Q110.76 1018.65 106.756 1018.65 Q104.881 1018.65 103.006 1019.06 Q101.154 1019.48 99.2095 1020.36 L99.2095 1003 Z\" fill=\"#000000\" fill-rule=\"evenodd\" fill-opacity=\"1\" /><path clip-path=\"url(#clip980)\" d=\"M129.371 1003 L147.728 1003 L147.728 1006.93 L133.654 1006.93 L133.654 1015.41 Q134.672 1015.06 135.691 1014.9 Q136.709 1014.71 137.728 1014.71 Q143.515 1014.71 146.894 1017.88 Q150.274 1021.05 150.274 1026.47 Q150.274 1032.05 146.802 1035.15 Q143.33 1038.23 137.01 1038.23 Q134.834 1038.23 132.566 1037.86 Q130.32 1037.49 127.913 1036.75 L127.913 1032.05 Q129.996 1033.18 132.219 1033.74 Q134.441 1034.29 136.918 1034.29 Q140.922 1034.29 143.26 1032.19 Q145.598 1030.08 145.598 1026.47 Q145.598 1022.86 143.26 1020.75 Q140.922 1018.65 136.918 1018.65 Q135.043 1018.65 133.168 1019.06 Q131.316 1019.48 129.371 1020.36 L129.371 1003 Z\" fill=\"#000000\" fill-rule=\"evenodd\" fill-opacity=\"1\" /><path clip-path=\"url(#clip980)\" d=\"M62.9365 636.552 Q59.3254 636.552 57.4967 640.117 Q55.6912 643.659 55.6912 650.788 Q55.6912 657.895 57.4967 661.459 Q59.3254 665.001 62.9365 665.001 Q66.5707 665.001 68.3763 661.459 Q70.205 657.895 70.205 650.788 Q70.205 643.659 68.3763 640.117 Q66.5707 636.552 62.9365 636.552 M62.9365 632.849 Q68.7467 632.849 71.8022 637.455 Q74.8809 642.038 74.8809 650.788 Q74.8809 659.515 71.8022 664.122 Q68.7467 668.705 62.9365 668.705 Q57.1264 668.705 54.0477 664.122 Q50.9921 659.515 50.9921 650.788 Q50.9921 642.038 54.0477 637.455 Q57.1264 632.849 62.9365 632.849 Z\" fill=\"#000000\" fill-rule=\"evenodd\" fill-opacity=\"1\" /><path clip-path=\"url(#clip980)\" d=\"M83.0984 662.154 L87.9827 662.154 L87.9827 668.034 L83.0984 668.034 L83.0984 662.154 Z\" fill=\"#000000\" fill-rule=\"evenodd\" fill-opacity=\"1\" /><path clip-path=\"url(#clip980)\" d=\"M108.746 648.89 Q105.598 648.89 103.746 651.043 Q101.918 653.196 101.918 656.946 Q101.918 660.672 103.746 662.848 Q105.598 665.001 108.746 665.001 Q111.895 665.001 113.723 662.848 Q115.575 660.672 115.575 656.946 Q115.575 653.196 113.723 651.043 Q111.895 648.89 108.746 648.89 M118.029 634.237 L118.029 638.497 Q116.27 637.663 114.464 637.224 Q112.682 636.784 110.922 636.784 Q106.293 636.784 103.839 639.909 Q101.409 643.034 101.061 649.353 Q102.427 647.339 104.487 646.274 Q106.547 645.186 109.024 645.186 Q114.233 645.186 117.242 648.358 Q120.274 651.506 120.274 656.946 Q120.274 662.27 117.126 665.487 Q113.978 668.705 108.746 668.705 Q102.751 668.705 99.5798 664.122 Q96.4085 659.515 96.4085 650.788 Q96.4085 642.594 100.297 637.733 Q104.186 632.849 110.737 632.849 Q112.496 632.849 114.279 633.196 Q116.084 633.543 118.029 634.237 Z\" fill=\"#000000\" fill-rule=\"evenodd\" fill-opacity=\"1\" /><path clip-path=\"url(#clip980)\" d=\"M138.33 636.552 Q134.719 636.552 132.89 640.117 Q131.084 643.659 131.084 650.788 Q131.084 657.895 132.89 661.459 Q134.719 665.001 138.33 665.001 Q141.964 665.001 143.769 661.459 Q145.598 657.895 145.598 650.788 Q145.598 643.659 143.769 640.117 Q141.964 636.552 138.33 636.552 M138.33 632.849 Q144.14 632.849 147.195 637.455 Q150.274 642.038 150.274 650.788 Q150.274 659.515 147.195 664.122 Q144.14 668.705 138.33 668.705 Q132.519 668.705 129.441 664.122 Q126.385 659.515 126.385 650.788 Q126.385 642.038 129.441 637.455 Q132.519 632.849 138.33 632.849 Z\" fill=\"#000000\" fill-rule=\"evenodd\" fill-opacity=\"1\" /><path clip-path=\"url(#clip980)\" d=\"M63.9319 267.028 Q60.3208 267.028 58.4921 270.593 Q56.6865 274.134 56.6865 281.264 Q56.6865 288.37 58.4921 291.935 Q60.3208 295.477 63.9319 295.477 Q67.5661 295.477 69.3717 291.935 Q71.2004 288.37 71.2004 281.264 Q71.2004 274.134 69.3717 270.593 Q67.5661 267.028 63.9319 267.028 M63.9319 263.324 Q69.742 263.324 72.7976 267.931 Q75.8763 272.514 75.8763 281.264 Q75.8763 289.991 72.7976 294.597 Q69.742 299.181 63.9319 299.181 Q58.1217 299.181 55.043 294.597 Q51.9875 289.991 51.9875 281.264 Q51.9875 272.514 55.043 267.931 Q58.1217 263.324 63.9319 263.324 Z\" fill=\"#000000\" fill-rule=\"evenodd\" fill-opacity=\"1\" /><path clip-path=\"url(#clip980)\" d=\"M84.0938 292.63 L88.978 292.63 L88.978 298.509 L84.0938 298.509 L84.0938 292.63 Z\" fill=\"#000000\" fill-rule=\"evenodd\" fill-opacity=\"1\" /><path clip-path=\"url(#clip980)\" d=\"M109.742 279.366 Q106.594 279.366 104.742 281.519 Q102.913 283.671 102.913 287.421 Q102.913 291.148 104.742 293.324 Q106.594 295.477 109.742 295.477 Q112.89 295.477 114.719 293.324 Q116.57 291.148 116.57 287.421 Q116.57 283.671 114.719 281.519 Q112.89 279.366 109.742 279.366 M119.024 264.713 L119.024 268.972 Q117.265 268.139 115.459 267.699 Q113.677 267.259 111.918 267.259 Q107.288 267.259 104.834 270.384 Q102.404 273.509 102.057 279.829 Q103.422 277.815 105.483 276.75 Q107.543 275.662 110.02 275.662 Q115.228 275.662 118.237 278.833 Q121.27 281.982 121.27 287.421 Q121.27 292.745 118.121 295.963 Q114.973 299.181 109.742 299.181 Q103.746 299.181 100.575 294.597 Q97.4039 289.991 97.4039 281.264 Q97.4039 273.07 101.293 268.208 Q105.182 263.324 111.733 263.324 Q113.492 263.324 115.274 263.671 Q117.08 264.019 119.024 264.713 Z\" fill=\"#000000\" fill-rule=\"evenodd\" fill-opacity=\"1\" /><path clip-path=\"url(#clip980)\" d=\"M129.371 263.949 L147.728 263.949 L147.728 267.884 L133.654 267.884 L133.654 276.357 Q134.672 276.009 135.691 275.847 Q136.709 275.662 137.728 275.662 Q143.515 275.662 146.894 278.833 Q150.274 282.005 150.274 287.421 Q150.274 293 146.802 296.102 Q143.33 299.181 137.01 299.181 Q134.834 299.181 132.566 298.81 Q130.32 298.44 127.913 297.699 L127.913 293 Q129.996 294.134 132.219 294.69 Q134.441 295.245 136.918 295.245 Q140.922 295.245 143.26 293.139 Q145.598 291.032 145.598 287.421 Q145.598 283.81 143.26 281.704 Q140.922 279.597 136.918 279.597 Q135.043 279.597 133.168 280.014 Q131.316 280.431 129.371 281.31 L129.371 263.949 Z\" fill=\"#000000\" fill-rule=\"evenodd\" fill-opacity=\"1\" /><polyline clip-path=\"url(#clip982)\" style=\"stroke:#009af9; stroke-linecap:butt; stroke-linejoin:round; stroke-width:4; stroke-opacity:1; fill:none\" points=\"\n",
       "  247.59,116.757 451.975,282.471 656.36,437.488 860.745,582.81 1065.13,719.32 1269.51,847.795 1473.9,968.925 1678.29,1083.32 1882.67,1191.53 2087.06,1294.04 \n",
       "  2291.44,1391.3 \n",
       "  \"/>\n",
       "<circle clip-path=\"url(#clip982)\" cx=\"247.59\" cy=\"87.9763\" r=\"14\" fill=\"#e26f46\" fill-rule=\"evenodd\" fill-opacity=\"1\" stroke=\"#000000\" stroke-opacity=\"1\" stroke-width=\"3.2\"/>\n",
       "<circle clip-path=\"url(#clip982)\" cx=\"451.975\" cy=\"395.266\" r=\"14\" fill=\"#e26f46\" fill-rule=\"evenodd\" fill-opacity=\"1\" stroke=\"#000000\" stroke-opacity=\"1\" stroke-width=\"3.2\"/>\n",
       "<circle clip-path=\"url(#clip982)\" cx=\"656.36\" cy=\"357.881\" r=\"14\" fill=\"#e26f46\" fill-rule=\"evenodd\" fill-opacity=\"1\" stroke=\"#000000\" stroke-opacity=\"1\" stroke-width=\"3.2\"/>\n",
       "<circle clip-path=\"url(#clip982)\" cx=\"860.745\" cy=\"553.192\" r=\"14\" fill=\"#e26f46\" fill-rule=\"evenodd\" fill-opacity=\"1\" stroke=\"#000000\" stroke-opacity=\"1\" stroke-width=\"3.2\"/>\n",
       "<circle clip-path=\"url(#clip982)\" cx=\"1065.13\" cy=\"720.119\" r=\"14\" fill=\"#e26f46\" fill-rule=\"evenodd\" fill-opacity=\"1\" stroke=\"#000000\" stroke-opacity=\"1\" stroke-width=\"3.2\"/>\n",
       "<circle clip-path=\"url(#clip982)\" cx=\"1269.51\" cy=\"858.627\" r=\"14\" fill=\"#e26f46\" fill-rule=\"evenodd\" fill-opacity=\"1\" stroke=\"#000000\" stroke-opacity=\"1\" stroke-width=\"3.2\"/>\n",
       "<circle clip-path=\"url(#clip982)\" cx=\"1473.9\" cy=\"1002.13\" r=\"14\" fill=\"#e26f46\" fill-rule=\"evenodd\" fill-opacity=\"1\" stroke=\"#000000\" stroke-opacity=\"1\" stroke-width=\"3.2\"/>\n",
       "<circle clip-path=\"url(#clip982)\" cx=\"1678.29\" cy=\"1102.02\" r=\"14\" fill=\"#e26f46\" fill-rule=\"evenodd\" fill-opacity=\"1\" stroke=\"#000000\" stroke-opacity=\"1\" stroke-width=\"3.2\"/>\n",
       "<circle clip-path=\"url(#clip982)\" cx=\"1882.67\" cy=\"1113.77\" r=\"14\" fill=\"#e26f46\" fill-rule=\"evenodd\" fill-opacity=\"1\" stroke=\"#000000\" stroke-opacity=\"1\" stroke-width=\"3.2\"/>\n",
       "<circle clip-path=\"url(#clip982)\" cx=\"2087.06\" cy=\"1279.65\" r=\"14\" fill=\"#e26f46\" fill-rule=\"evenodd\" fill-opacity=\"1\" stroke=\"#000000\" stroke-opacity=\"1\" stroke-width=\"3.2\"/>\n",
       "<circle clip-path=\"url(#clip982)\" cx=\"2291.44\" cy=\"1445.72\" r=\"14\" fill=\"#e26f46\" fill-rule=\"evenodd\" fill-opacity=\"1\" stroke=\"#000000\" stroke-opacity=\"1\" stroke-width=\"3.2\"/>\n",
       "<path clip-path=\"url(#clip980)\" d=\"\n",
       "M1988.11 250.738 L2280.54 250.738 L2280.54 95.2176 L1988.11 95.2176  Z\n",
       "  \" fill=\"#ffffff\" fill-rule=\"evenodd\" fill-opacity=\"1\"/>\n",
       "<polyline clip-path=\"url(#clip980)\" style=\"stroke:#000000; stroke-linecap:butt; stroke-linejoin:round; stroke-width:4; stroke-opacity:1; fill:none\" points=\"\n",
       "  1988.11,250.738 2280.54,250.738 2280.54,95.2176 1988.11,95.2176 1988.11,250.738 \n",
       "  \"/>\n",
       "<polyline clip-path=\"url(#clip980)\" style=\"stroke:#009af9; stroke-linecap:butt; stroke-linejoin:round; stroke-width:4; stroke-opacity:1; fill:none\" points=\"\n",
       "  2012.11,147.058 2156.11,147.058 \n",
       "  \"/>\n",
       "<path clip-path=\"url(#clip980)\" d=\"M2193.95 166.745 Q2192.15 171.375 2190.43 172.787 Q2188.72 174.199 2185.85 174.199 L2182.45 174.199 L2182.45 170.634 L2184.95 170.634 Q2186.71 170.634 2187.68 169.8 Q2188.65 168.967 2189.83 165.865 L2190.6 163.921 L2180.11 138.412 L2184.62 138.412 L2192.73 158.689 L2200.83 138.412 L2205.34 138.412 L2193.95 166.745 Z\" fill=\"#000000\" fill-rule=\"evenodd\" fill-opacity=\"1\" /><path clip-path=\"url(#clip980)\" d=\"M2212.63 160.402 L2220.27 160.402 L2220.27 134.037 L2211.96 135.703 L2211.96 131.444 L2220.23 129.778 L2224.9 129.778 L2224.9 160.402 L2232.54 160.402 L2232.54 164.338 L2212.63 164.338 L2212.63 160.402 Z\" fill=\"#000000\" fill-rule=\"evenodd\" fill-opacity=\"1\" /><circle clip-path=\"url(#clip980)\" cx=\"2084.11\" cy=\"198.898\" r=\"23\" fill=\"#e26f46\" fill-rule=\"evenodd\" fill-opacity=\"1\" stroke=\"#000000\" stroke-opacity=\"1\" stroke-width=\"5.12\"/>\n",
       "<path clip-path=\"url(#clip980)\" d=\"M2193.95 218.585 Q2192.15 223.215 2190.43 224.627 Q2188.72 226.039 2185.85 226.039 L2182.45 226.039 L2182.45 222.474 L2184.95 222.474 Q2186.71 222.474 2187.68 221.64 Q2188.65 220.807 2189.83 217.705 L2190.6 215.761 L2180.11 190.252 L2184.62 190.252 L2192.73 210.529 L2200.83 190.252 L2205.34 190.252 L2193.95 218.585 Z\" fill=\"#000000\" fill-rule=\"evenodd\" fill-opacity=\"1\" /><path clip-path=\"url(#clip980)\" d=\"M2215.85 212.242 L2232.17 212.242 L2232.17 216.178 L2210.23 216.178 L2210.23 212.242 Q2212.89 209.488 2217.47 204.858 Q2222.08 200.205 2223.26 198.863 Q2225.5 196.34 2226.38 194.604 Q2227.29 192.844 2227.29 191.155 Q2227.29 188.4 2225.34 186.664 Q2223.42 184.928 2220.32 184.928 Q2218.12 184.928 2215.66 185.692 Q2213.23 186.455 2210.46 188.006 L2210.46 183.284 Q2213.28 182.15 2215.73 181.571 Q2218.19 180.993 2220.23 180.993 Q2225.6 180.993 2228.79 183.678 Q2231.98 186.363 2231.98 190.854 Q2231.98 192.983 2231.17 194.905 Q2230.39 196.803 2228.28 199.395 Q2227.7 200.067 2224.6 203.284 Q2221.5 206.479 2215.85 212.242 Z\" fill=\"#000000\" fill-rule=\"evenodd\" fill-opacity=\"1\" /></svg>\n"
      ]
     },
     "metadata": {},
     "output_type": "display_data"
    }
   ],
   "source": [
    "Plots.plot(x,l)\n",
    "Plots.scatter!(x,y)"
   ]
  }
 ],
 "metadata": {
  "interpreter": {
   "hash": "31f2aee4e71d21fbe5cf8b01ff0e069b9275f58929596ceb00d14d90e3e16cd6"
  },
  "kernelspec": {
   "display_name": "Julia 1.7.1",
   "language": "julia",
   "name": "julia-1.7"
  },
  "language_info": {
   "file_extension": ".jl",
   "mimetype": "application/julia",
   "name": "julia",
   "version": "1.7.1"
  },
  "orig_nbformat": 4
 },
 "nbformat": 4,
 "nbformat_minor": 2
}
